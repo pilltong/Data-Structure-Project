{
 "cells": [
  {
   "cell_type": "code",
   "execution_count": 23,
   "metadata": {},
   "outputs": [
    {
     "name": "stdout",
     "output_type": "stream",
     "text": [
      "\u001b[31mERROR: Could not find a version that satisfies the requirement xvfpwrapper (from versions: none)\u001b[0m\n",
      "\u001b[31mERROR: No matching distribution found for xvfpwrapper\u001b[0m\n",
      "Collecting webdriver-manager\n",
      "  Downloading webdriver_manager-3.2.2-py2.py3-none-any.whl (16 kB)\n",
      "Requirement already satisfied: requests in /usr/lib/python3/dist-packages (from webdriver-manager) (2.22.0)\n",
      "Collecting crayons\n",
      "  Downloading crayons-0.4.0-py2.py3-none-any.whl (4.6 kB)\n",
      "Collecting configparser\n",
      "  Downloading configparser-5.0.1-py3-none-any.whl (22 kB)\n",
      "Requirement already satisfied: colorama in /usr/lib/python3/dist-packages (from crayons->webdriver-manager) (0.4.3)\n",
      "Installing collected packages: crayons, configparser, webdriver-manager\n",
      "Successfully installed configparser-5.0.1 crayons-0.4.0 webdriver-manager-3.2.2\n"
     ]
    }
   ],
   "source": [
    "!pip3 install xvfpwrapper\n",
    "!pip3 install webdriver-manager"
   ]
  },
  {
   "cell_type": "code",
   "execution_count": 27,
   "metadata": {},
   "outputs": [],
   "source": [
    "## parser.py\n",
    "import requests\n",
    "from bs4 import BeautifulSoup"
   ]
  },
  {
   "cell_type": "code",
   "execution_count": 20,
   "metadata": {},
   "outputs": [],
   "source": [
    "from selenium import webdriver \n",
    "from selenium.webdriver.common.desired_capabilities import DesiredCapabilities "
   ]
  },
  {
   "cell_type": "code",
   "execution_count": 2,
   "metadata": {},
   "outputs": [],
   "source": [
    "## HTTP GET Request\n",
    "req = requests.get('https://kbtt.tistory.com/')"
   ]
  },
  {
   "cell_type": "code",
   "execution_count": 12,
   "metadata": {},
   "outputs": [],
   "source": [
    "# parser.py\n",
    "import requests\n",
    "\n",
    "# Session 생성, with 구문 안에서 유지\n",
    "with requests.Session() as s:\n",
    "    # HTTP GET Request: requests대신 s 객체를 사용한다.\n",
    "    req = requests.get('https://kbtt.tistory.com/')    \n",
    "    # HTML 소스 가져오기\n",
    "    html = req.text\n",
    "    # HTTP Header 가져오기\n",
    "    header = req.headers\n",
    "    # HTTP Status 가져오기 (200: 정상)\n",
    "    status = req.status_code\n",
    "    # HTTP가 정상적으로 되었는지 (True/False)\n",
    "    is_ok = req.ok"
   ]
  },
  {
   "cell_type": "code",
   "execution_count": 39,
   "metadata": {},
   "outputs": [],
   "source": [
    "from selenium import webdriver\n",
    "from pyvirtualdisplay import Display"
   ]
  },
  {
   "cell_type": "code",
   "execution_count": 87,
   "metadata": {},
   "outputs": [],
   "source": [
    "driver_location = '/usr/bin/chromedriver'\n",
    "binary_location = '/usr/bin/'"
   ]
  },
  {
   "cell_type": "code",
   "execution_count": 88,
   "metadata": {},
   "outputs": [],
   "source": [
    "option = webdriver.ChromeOptions()\n",
    "option.binary_location = binary_location"
   ]
  },
  {
   "cell_type": "raw",
   "metadata": {},
   "source": [
    "driver = webdriver.Chrome(executable_path=driver_location)"
   ]
  },
  {
   "cell_type": "code",
   "execution_count": 30,
   "metadata": {},
   "outputs": [],
   "source": [
    "from selenium import webdriver \n",
    "from pyvirtualdisplay import Display \n",
    "display = Display(visible=0, size=(1920, 1080)) \n",
    "display.start() \n",
    "path='/home/ubuntu/chromedriver'\n",
    "driver = webdriver.Chrome(path)"
   ]
  },
  {
   "cell_type": "code",
   "execution_count": 35,
   "metadata": {},
   "outputs": [],
   "source": [
    "driver.get('https://nid.naver.com/nidlogin.login')"
   ]
  },
  {
   "cell_type": "code",
   "execution_count": 40,
   "metadata": {},
   "outputs": [],
   "source": [
    "driver.find_element_by_name('id').send_keys('jonghyun-kim')\n",
    "driver.find_element_by_name('pw').send_keys('guswhdrla1!')"
   ]
  },
  {
   "cell_type": "code",
   "execution_count": 41,
   "metadata": {},
   "outputs": [],
   "source": [
    "driver.find_element_by_xpath('//*[@id=\"frmNIDLogin\"]/fieldset/input').click()"
   ]
  },
  {
   "cell_type": "code",
   "execution_count": 42,
   "metadata": {},
   "outputs": [],
   "source": [
    "# Naver 페이 들어가기\n",
    "driver.get('https://order.pay.naver.com/home')\n",
    "html = driver.page_source\n",
    "soup = BeautifulSoup(html, 'html.parser')\n",
    "notices = soup.select('div.p_inr > div.p_info > a > span')"
   ]
  },
  {
   "cell_type": "code",
   "execution_count": 44,
   "metadata": {},
   "outputs": [
    {
     "data": {
      "text/plain": [
       "'<html lang=\"en\"><head>\\n\\t<meta charset=\"UTF-8\">\\n\\t<meta http-equiv=\"X-UA-Compatible\" content=\"IE=edge\">\\n\\t<meta name=\"viewport\" content=\"width=device-width, initial-scale=1.0, maximum-scale=1.0, minimum-scale=1.0, user-scalable=no\">\\n\\t<meta property=\"og:type\" content=\"website\">\\n\\t<meta property=\"og:title\" content=\"[네이버: 로그인]\">\\n\\t<meta property=\"og:description\" content=\"안전한 로그인을 위해 주소창의 URL과 자물쇠 마크를 확인하세요!\">\\n\\t<meta property=\"og:image\" content=\"https://ssl.pstatic.net/sstatic/search/common/og_v3.png\">\\n\\t<meta property=\"og:image:type\" content=\"image/png\">\\n\\t<meta property=\"og:image:width\" content=\"1200\">\\n\\t<meta property=\"og:image:height\" content=\"1200\">\\t\\t\\n\\t<title>Naver Sign in</title>\\n\\t<link rel=\"stylesheet\" type=\"text/css\" href=\"https://nid.naver.com/login/css/global/desktop/w_20200707.css?20201006\">\\n</head>\\n<body class=\"global chrome\">\\n<div id=\"wrap\">\\n    <div id=\"u_skip\">\\n        <a href=\"#content\" id=\"u_skip_anchor\"><span>본문으로 바로가기</span></a>\\n    </div>\\n\\t<!-- header -->\\n\\t<div id=\"header\">\\n\\t\\t<h1><a href=\"https://www.naver.com\" class=\"sp h_logo\" id=\"log.naver\"><span class=\"blind\">NAVER</span></a></h1>\\n\\t\\t<div class=\"lang\">\\n\\t\\t\\t<select id=\"locale_switch\" name=\"locale_switch\" title=\"언어선택\" class=\"sel\">\\n\\t\\t\\t\\t<option value=\"ko_KR\">한국어</option>\\n\\t\\t\\t\\t<option value=\"en_US\">English</option>\\n\\t\\t\\t\\t<option value=\"zh-Hans_CN\">中文(简体)</option>\\n\\t\\t\\t\\t<option value=\"zh-Hant_TW\">中文(台灣)</option>\\n\\t\\t\\t</select>\\n\\t\\t</div>\\n\\t</div>\\n\\t<div id=\"container\">\\n\\t\\t<!-- content -->\\n\\t\\t<div id=\"content\">\\n\\t\\t\\t<div class=\"title\" aria-live=\"assertive\">\\n\\t\\t\\t\\t<p></p>\\n\\t\\t\\t</div>\\n\\t\\t\\t\\t<form id=\"frmNIDLogin\" name=\"frmNIDLogin\" target=\"_top\" autocomplete=\"off\" action=\"https://nid.naver.com/nidlogin.login\" method=\"POST\">\\n\\t\\t\\t\\t<input type=\"hidden\" id=\"localechange\" name=\"localechange\" value=\"\">\\n\\t\\t\\t\\t<input type=\"hidden\" name=\"dynamicKey\" id=\"dynamicKey\" value=\"\">\\n\\t\\t\\t\\t<input type=\"hidden\" name=\"encpw\" id=\"encpw\" value=\"\">\\n<input type=\"hidden\" name=\"enctp\" id=\"enctp\" value=\"1\">\\n<input type=\"hidden\" name=\"svctype\" id=\"svctype\" value=\"1\">\\n<input type=\"hidden\" name=\"smart_LEVEL\" id=\"smart_LEVEL\" value=\"1\">\\n<input type=\"hidden\" name=\"bvsd\" id=\"bvsd\" value=\"\">\\n<input type=\"hidden\" name=\"encnm\" id=\"encnm\" value=\"\">\\n<input type=\"hidden\" name=\"locale\" id=\"locale\" value=\"en_US\">\\n<input type=\"hidden\" name=\"url\" id=\"url\" value=\"https://order.pay.naver.com/home\">\\n\\n\\t\\t\\t\\t<fieldset class=\"login_form\">\\n\\t\\t\\t\\t\\t<legend class=\"blind\">Sign in</legend>\\n\\t\\t\\t\\t\\t<div class=\"id_area\">\\n\\t\\t\\t\\t\\t\\t<div class=\"input_row focus\" id=\"id_area\">\\n\\t\\t\\t\\t\\t\\t\\t<span class=\"input_box\">\\n\\t\\t\\t\\t\\t\\t\\t\\t<label for=\"id\" id=\"label_id_area\" class=\"lbl\" style=\"display: none;\">Username</label>\\n\\t\\t\\t\\t\\t\\t\\t\\t<input type=\"text\" id=\"id\" name=\"id\" accesskey=\"L\" placeholder=\"Username\" class=\"int\" maxlength=\"41\" value=\"\">\\n\\t\\t\\t\\t\\t\\t\\t</span>\\n\\t\\t\\t\\t\\t\\t\\t<button type=\"button\" disabled=\"\" title=\"delete\" id=\"id_clear\" class=\"wrg\">delete</button>\\n\\t\\t\\t\\t\\t\\t</div>\\n\\t\\t\\t\\t\\t\\t<div class=\"error\" id=\"err_empty_id\" style=\"display:none\" aria-live=\"assertive\"></div>\\n\\t\\t\\t\\t\\t</div>\\n\\t\\t\\t\\t\\t<div class=\"pw_area\">\\n\\t\\t\\t\\t\\t\\t<div class=\"input_row\" id=\"pw_area\">\\n\\t\\t\\t\\t\\t\\t\\t<span class=\"input_box\">\\n\\t\\t\\t\\t\\t\\t\\t\\t<label for=\"pw\" id=\"label_pw_area\" class=\"lbl\">Password</label>\\n\\t\\t\\t\\t\\t\\t\\t\\t<input type=\"password\" id=\"pw\" name=\"pw\" placeholder=\"Password\" class=\"int\" maxlength=\"16\">\\n\\t\\t\\t\\t\\t\\t\\t</span>\\n\\t\\t\\t\\t\\t\\t\\t<button type=\"button\" disabled=\"\" title=\"delete\" id=\"pw_clear\" class=\"wrg\">delete</button>\\n\\t\\t\\t\\t\\t\\t\\t<div class=\"ly_v2\" id=\"err_capslock\" style=\"display:none;\">\\n\\t\\t\\t\\t\\t\\t\\t\\t<div class=\"ly_box\">\\n\\t\\t\\t\\t\\t\\t\\t\\t\\t<p><strong>Caps Lock</strong> is on.</p>\\n\\t\\t\\t\\t\\t\\t\\t\\t</div>\\n\\t\\t\\t\\t\\t\\t\\t\\t<span class=\"sp ly_point\"></span>\\n\\t\\t\\t\\t\\t\\t\\t</div>\\n\\t\\t\\t\\t\\t\\t</div>\\n\\t\\t\\t\\t\\t\\t<div class=\"error\" id=\"err_empty_pw\" style=\"display:none\" aria-live=\"assertive\"></div>\\n\\t\\t\\t\\t\\t</div>\\n\\n\\t\\t\\t\\t\\t<input type=\"submit\" title=\"Sign in\" alt=\"Sign in\" value=\"Sign in\" class=\"btn_global\" id=\"log.login\">\\n\\t\\t\\t\\t\\t<div class=\"check_info\">\\n\\t\\t\\t\\t\\t\\t<div class=\"login_check\">\\n\\t\\t\\t\\t\\t\\t\\t<span class=\"login_check_box\">\\n\\t\\t\\t\\t\\t\\t\\t\\t<input type=\"checkbox\" id=\"login_chk\" name=\"nvlong\" class=\"\" value=\"off\">\\n\\t\\t\\t\\t\\t\\t\\t\\t<label for=\"login_chk\" id=\"label_login_chk\" class=\"ico_keep_check \">Stay Signed in</label>\\n\\t\\t\\t\\t\\t\\t\\t</span>\\n\\t\\t\\t\\t\\t\\t</div>\\n\\t\\t\\t\\t\\t</div>\\n\\t\\t\\t\\t</fieldset>\\n\\t\\t\\t</form>\\n\\t\\t\\t<div class=\"qr_once_wrap\">\\n\\t\\t\\t\\t<div class=\"qr_once_inner\">\\t\\t\\t\\t\\t\\n\\t\\t\\t\\t\\t<p class=\"title\">Easier sign in</p>\\t\\t\\t\\t\\t\\n\\t\\t\\t\\t\\t<div class=\"qr_once_area\">\\n\\t\\t\\t\\t\\t\\t<div class=\"item\">\\n\\t\\t\\t\\t\\t\\t\\t<button type=\"button\" id=\"log.QR\" class=\"item_btn\">\\n\\t\\t\\t\\t\\t\\t\\t\\t<span class=\"icon_qr\" aria-hidden=\"true\"></span>\\n\\t\\t\\t\\t\\t\\t\\t\\t<span class=\"txt\">Sign in with QR code</span>\\n\\t\\t\\t\\t\\t\\t\\t</button>\\n                        </div>\\n                        <div class=\"item\">\\n                        <a href=\"/oauth/global/initSNS.nhn?idp_cd=facebook&amp;locale=en_US&amp;svctype=1&amp;postDataKey=&amp;url=https%3A%2F%2Forder.pay.naver.com%2Fhome\" title=\"Log in with your Facebook account\">\\n\\t\\t\\t\\t\\t\\t\\t<button type=\"button\" class=\"item_btn\">\\n\\t\\t\\t\\t\\t\\t\\t\\t<span class=\"icon_facebook\" aria-hidden=\"true\"></span>\\n\\t\\t\\t\\t\\t\\t\\t\\t<span class=\"txt\">Facebook</span>\\n\\t\\t\\t\\t\\t\\t\\t</button>\\n\\t\\t\\t\\t\\t\\t</a>\\n                        </div>\\n                        <div class=\"item\">\\n                        <a href=\"/oauth/global/initSNS.nhn?idp_cd=line&amp;locale=en_US&amp;svctype=1&amp;postDataKey=&amp;url=https%3A%2F%2Forder.pay.naver.com%2Fhome\" title=\"Log in with your Line account\">\\n                        \\t<button type=\"button\" class=\"item_btn\">\\n\\t\\t\\t\\t\\t\\t\\t\\t<span class=\"icon_line\" aria-hidden=\"true\"></span>\\n\\t\\t\\t\\t\\t\\t\\t\\t<span class=\"txt\">line</span>\\n\\t\\t\\t\\t\\t\\t\\t</button>\\n\\t\\t\\t\\t\\t\\t</a>\\n\\t\\t\\t\\t\\t\\t</div>\\t\\t\\t\\t\\t\\t\\n\\t\\t\\t\\t\\t</div>\\n\\t\\t\\t\\t\\t<div class=\"nudge_tooltip\" id=\"nudge_tooltip\" style=\"height:20px;\">\\n\\t\\t\\t\\t\\t\\t<span class=\"banner_area\">\\n\\t\\t\\t\\t\\t\\t\\t<span class=\"edge\"></span>\\n\\t\\t\\t\\t\\t\\t\\t<span class=\"text\">If this PC is used by multiple people, try it.</span>\\n\\t\\t\\t\\t\\t\\t\\t<a href=\"#\" id=\"nudge_close\" role=\"button\" aria-label=\"닫기\" class=\"nudge_close\"></a>\\n\\t\\t\\t\\t\\t\\t</span>\\n\\t\\t\\t\\t\\t</div>\\t\\t\\t\\t\\t\\n\\t\\t\\t\\t</div>\\t\\t\\t\\t\\n\\t\\t\\t</div>\\n\\t\\t\\t<div class=\"position_a\">\\n\\t\\t\\t\\t<div class=\"find_info\">\\n\\t\\t\\t\\t\\t<p>Forgot your <a target=\"_blank\" id=\"idinquiry\" href=\"https://nid.naver.com/user2/api/route.nhn?m=routeIdInquiry&amp;lang=en_US\">Username</a> or <a target=\"_blank\" id=\"pwinquiry\" href=\"https://nid.naver.com/user2/api/route.nhn?m=routePwInquiry&amp;lang=en_US\">Password?</a> <span class=\"bar\">|</span> <a target=\"_blank\" id=\"join\" href=\"https://nid.naver.com/user2/V2Join.nhn?m=agree&amp;lang=en_US\">Sign up</a>\\n\\t\\t\\t\\t</p></div>\\n\\t\\t\\t</div>\\n\\t\\t</div>\\n\\t\\t<!-- //content -->\\n\\t</div>\\n\\t<!-- //container -->\\n\\t<!-- footer -->\\n\\t<div id=\"footer\">\\n\\t\\t<address><em><a target=\"_blank\" href=\"http://www.navercorp.com\" class=\"logo\" id=\"fot.naver\"><span class=\"blind\">naver</span></a></em><em class=\"copy\">Copyright</em> <em class=\"u_cri\">©</em> <a target=\"_blank\" href=\"http://www.navercorp.com\" class=\"u_cra\" id=\"fot.navercorp\">NAVER Corp.</a> <span class=\"all_r\">All Rights Reserved.</span></address>\\t\\n\\t</div>\\n\\t<!-- //footer -->\\n</div>\\n<input type=\"hidden\" id=\"nclicks_nsc\" name=\"nclicks_nsc\" value=\"nid.login_en\">\\n<input type=\"hidden\" id=\"nid_buk\" name=\"nid_buk\" value=\"exist\">\\n<input type=\"hidden\" id=\"ncaptchaSplit\" name=\"ncaptchaSplit\" value=\"none\">\\n<input type=\"hidden\" id=\"id_error_msg\" name=\"id_error_msg\" value=\"Enter your username!\">\\n<input type=\"hidden\" id=\"pw_error_msg\" name=\"pw_error_msg\" value=\"Enter your password!\">\\n<input type=\"hidden\" id=\"locale\" name=\"locale\" value=\"en_US\">\\n<input type=\"hidden\" id=\"adult_surl_v2\" name=\"adult_surl_v2\" value=\"\">\\n<script type=\"text/javascript\" src=\"https://nid.naver.com/login/js/bvsd.1.3.4.min.js\"></script>\\n<script type=\"text/javascript\" src=\"https://nid.naver.com/login/js/default/common200417.js?v=20200707\"></script>\\n<script type=\"text/javascript\" src=\"https://nid.naver.com/login/js/default/default200417.js?20200904\"></script>\\n<script type=\"text/javascript\" nonce=\"\">try{if(document.domain!=\"nid.naver.com\"||location.protocol!=\"https:\"){location.href=\"https://nid.naver.com/login/api/proxy.repo.naver?protocol=\"+location.protocol+\"&domain=\"+document.domain+\"&referrer=\"+encodeURIComponent(document.referrer)}}catch(e){}</script>\\n<div id=\"nv_stat\" style=\"display:none;\">20</div>\\n\\n\\n</body></html>'"
      ]
     },
     "execution_count": 44,
     "metadata": {},
     "output_type": "execute_result"
    }
   ],
   "source": [
    "html"
   ]
  },
  {
   "cell_type": "code",
   "execution_count": 38,
   "metadata": {},
   "outputs": [],
   "source": [
    "for n in notices:\n",
    "    print(n.text.strip())"
   ]
  },
  {
   "cell_type": "code",
   "execution_count": 45,
   "metadata": {},
   "outputs": [
    {
     "data": {
      "text/plain": [
       "'https://nid.naver.com/nidlogin.login?svctype=1&url=https%3A%2F%2Forder.pay.naver.com%2Fhome'"
      ]
     },
     "execution_count": 45,
     "metadata": {},
     "output_type": "execute_result"
    }
   ],
   "source": [
    "driver.current_url"
   ]
  },
  {
   "cell_type": "code",
   "execution_count": null,
   "metadata": {},
   "outputs": [],
   "source": []
  }
 ],
 "metadata": {
  "kernelspec": {
   "display_name": "Python 3",
   "language": "python",
   "name": "python3"
  },
  "language_info": {
   "codemirror_mode": {
    "name": "ipython",
    "version": 3
   },
   "file_extension": ".py",
   "mimetype": "text/x-python",
   "name": "python",
   "nbconvert_exporter": "python",
   "pygments_lexer": "ipython3",
   "version": "3.8.5"
  }
 },
 "nbformat": 4,
 "nbformat_minor": 4
}
