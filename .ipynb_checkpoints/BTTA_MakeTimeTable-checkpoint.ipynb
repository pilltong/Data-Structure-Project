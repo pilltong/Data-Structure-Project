{
 "cells": [
  {
   "cell_type": "markdown",
   "metadata": {},
   "source": [
    "## 라이브러리 불러오기"
   ]
  },
  {
   "cell_type": "code",
   "execution_count": null,
   "metadata": {},
   "outputs": [],
   "source": [
    "# API 호출\n",
    "# ## https://data.go.kr/tcs/dss/selectApiDataDetailView.do?publicDataPk=15057440\n",
    "from urllib.request import Request, urlopen\n",
    "# Request https://docs.python.org/ko/3/library/urllib.request.html#urllib.request.Request\n",
    "# urlopen https://docs.python.org/ko/3/library/urllib.request.html#urllib.request.urlopen\n",
    "from urllib.parse import urlencode, quote_plus\n",
    "# urlenocde https://docs.python.org/ko/3/library/urllib.parse.html#urllib.parse.urlencode\n",
    "# quote_plus https://docs.python.org/ko/3/library/urllib.parse.html#urllib.parse.quote_plus\n",
    "from urllib.parse import unquote\n",
    "import requests\n",
    "\n",
    "# 시간 생성\n",
    "import time\n",
    "import datetime\n",
    "from pytz import timezone, utc\n",
    "\n",
    "# 폴더 자동 생성\n",
    "import os\n",
    "\n",
    "# 코드 스케줄링\n",
    "import threading\n",
    "# import schedule\n",
    "\n",
    "# XML 파싱\n",
    "import xml.etree.ElementTree as ET\n",
    "\n",
    "# 입력데이터 데이터프레임 작성\n",
    "import pandas as pd\n",
    "import numpy as np\n",
    "\n",
    "# DataFrame 화면 출력                                                # DataFrame 화면 출력 설정이 변경되어 있습니다 #\n",
    "from IPython.display import display\n",
    "pd.options.display.max_columns = None\n",
    "pd.options.display.max_rows = None # default = 60\n",
    "\n",
    "#EXCEL\n",
    "import openpyxl\n",
    "\n",
    "# 배차간격 확인 scatter plot 출력\n",
    "import matplotlib.pyplot as plt"
   ]
  },
  {
   "cell_type": "code",
   "execution_count": null,
   "metadata": {},
   "outputs": [],
   "source": [
    "# 폴더 자동 생성 함수\n",
    "# https://data-make.tistory.com/170\n",
    "def createFolder(directory):\n",
    "    try:\n",
    "        if not os.path.exists(directory):\n",
    "            os.makedirs(directory)\n",
    "    except OSError:\n",
    "        print ('Error: Creating directory. ' +  directory)"
   ]
  },
  {
   "cell_type": "markdown",
   "metadata": {},
   "source": [
    "## 기본값 설정하기"
   ]
  },
  {
   "cell_type": "code",
   "execution_count": null,
   "metadata": {},
   "outputs": [],
   "source": [
    "def todayStr(year:int, month:int, day:int) -> str:\n",
    "    todayDateTimeStr = f\"{year}-{month}-{day}\"\n",
    "    return todayDateTimeStr"
   ]
  },
  {
   "cell_type": "markdown",
   "metadata": {},
   "source": [
    "## Key Unquote"
   ]
  },
  {
   "cell_type": "code",
   "execution_count": null,
   "metadata": {},
   "outputs": [],
   "source": [
    "KEY = 'yEaR%2F3MDedRSlVJL%2F2pxnVg0yre1N5VF3RZ%2FUAt56MJ7J2mNpfqhUvy05pXV0uhHTVY7DbyCR8xmMaDdYga67Q%3D%3D' # 종현\n",
    "apiKey = unquote(KEY)"
   ]
  },
  {
   "cell_type": "markdown",
   "metadata": {},
   "source": [
    "## API 호출"
   ]
  },
  {
   "cell_type": "code",
   "execution_count": null,
   "metadata": {},
   "outputs": [],
   "source": [
    "\"\"\"\n",
    "노선정보항목조회 busrouteservice/info\n",
    "routeId의 정류장 목록을 받아옵니다.\n",
    "\"\"\"\n",
    "def apiInfo(routeId):\n",
    "    url = 'http://openapi.gbis.go.kr/ws/rest/busrouteservice/station'\n",
    "    queryParams = '?' + urlencode({ quote_plus('serviceKey') : apiKey, quote_plus('routeId') : routeId })\n",
    "    request = Request(url + queryParams)\n",
    "    request.get_method = lambda: 'GET'\n",
    "\n",
    "    # API를 호출하여 XML 형식으로 된 string 데이터를 변수 \"oneLineXML\" 에 저장합니다.\n",
    "    oneLineXML = urlopen(request).read().decode('utf8')\n",
    "    return oneLineXML"
   ]
  },
  {
   "cell_type": "markdown",
   "metadata": {},
   "source": [
    "## XML 파싱"
   ]
  },
  {
   "cell_type": "code",
   "execution_count": null,
   "metadata": {},
   "outputs": [],
   "source": [
    "def makeInfoDf(oneLineXML:str):\n",
    "    # xtree는 \"openapi\" 도메인 API 호출에서 \"headerCd\"에 상관없이 3개의 태그를 갖습니다.\n",
    "    # [comMsgHeader, msgHeader, msgBody]\n",
    "    xtree = ET.fromstring(oneLineXML)\n",
    "    # for branch in xtree:\n",
    "    #     print(branch)\n",
    "    msgBody = xtree[2]\n",
    "\n",
    "    tagList = [\"stationSeq\", \"stationId\", \"stationName\", \"x\", \"y\"]\n",
    "    stationList = []\n",
    "    for branch in msgBody:\n",
    "        stationList.append([branch.find(tag).text for tag in tagList])\n",
    "\n",
    "    # station_df의 index가 0부터 시작하는 문제를 해결 하기 위해 rangeIndex를 지정하였습니다.\n",
    "    stationCount = len(stationList) # 뒤에서 다시 사용되므로 함수로 선언시 주의\n",
    "    rangeIndex = pd.RangeIndex(start=1, stop=stationCount+1)\n",
    "\n",
    "    station_df = pd.DataFrame(stationList, columns=tagList, index=rangeIndex)\n",
    "    station_df = station_df.astype({\n",
    "        \"stationSeq\" : \"int32\",\n",
    "        \"stationId\" : \"int32\", \n",
    "        \"stationName\" : \"string\",\n",
    "        \"x\" : \"float\",\n",
    "        \"y\" : \"float\"\n",
    "\n",
    "    })\n",
    "    return station_df"
   ]
  },
  {
   "cell_type": "code",
   "execution_count": null,
   "metadata": {},
   "outputs": [],
   "source": [
    "'''폴더 안에 존재하는 모든(하위 폴더까지 포함) 파일의 경로를 리스트로 반환'''\n",
    "def allFilePath(routeIdFolder):\n",
    "    fileList = []\n",
    "    for root, dirs, files in os.walk(routeIdFolder):\n",
    "        for fname in files:\n",
    "            full_fname = os.path.join(root, fname)\n",
    "            fileList.append(full_fname)\n",
    "    return fileList"
   ]
  },
  {
   "cell_type": "markdown",
   "metadata": {},
   "source": [
    "## 데이터 불러오기"
   ]
  },
  {
   "cell_type": "code",
   "execution_count": null,
   "metadata": {},
   "outputs": [],
   "source": [
    "'''AWS/Data/daily-time-table폴더에 노선ID(routeId)별로 저장되어 있는 \n",
    "    텍스트파일(API호출 데이터)의 경로를 존재여부에 상관없이 반환합니다.'''\n",
    "def getFilePath(routeId, year, month, day):\n",
    "    curRootDir = os.getcwd()\n",
    "\n",
    "    subDir = '/AWS/DATA/daily-time-table/'\n",
    "\n",
    "    strRouteId = str(routeId)\n",
    "    routeIdFolder = curRootDir + subDir + strRouteId\n",
    "\n",
    "    fileName = '/' + str(year) + '-' + str(month) + '-' + str(day) + '.txt'\n",
    "\n",
    "    fileDir = routeIdFolder + fileName\n",
    "    \n",
    "    return fileDir\n",
    "\n",
    "assert getFilePath(204000046, 2020, 12, 23) == '/home/ubuntu/Data-Structure-Project/AWS/DATA/daily-time-table/204000046/2020-12-23.txt'"
   ]
  },
  {
   "cell_type": "code",
   "execution_count": null,
   "metadata": {},
   "outputs": [],
   "source": [
    "def rawDf(routeId, year, month, day):\n",
    "    '''\n",
    "    routeId 별 정류소 도착시간을 나타내는 2차원 배열을 생성 할 수 있습니다\n",
    "    마지막 정류소 번호가 필요합니다 : 경유정류소목록조회 API 서비스를 이용하여 가져옵니다.\n",
    "    중간 또는 처음과 끝에 발생하는 결측치를 채워야 합니다.\n",
    "    '''\n",
    "    inputPath = getFilePath(routeId, year, month, day)\n",
    "\n",
    "    itemTagList = ['DateTime', 'endBus', 'lowPlate', 'plateNo', 'plateType', 'remainSeatCnt', 'routeId', 'stationId', 'stationSeq', 'Nan']\n",
    "    _raw_df = pd.read_csv(inputPath, sep=' ', skiprows=[0], names=itemTagList)\n",
    "    _raw_df = _raw_df.drop([\"Nan\"], axis=1)\n",
    "\n",
    "    _sorted_df = _raw_df.sort_values(['plateNo'])\n",
    "\n",
    "    _df = _sorted_df.dropna()\n",
    "\n",
    "    # string을 datetime객체로 변환하기\n",
    "    _df['DateTime'] = pd.to_datetime(_df['DateTime'])\n",
    "\n",
    "    _df = _df.astype({\n",
    "        'endBus': 'int32', \n",
    "        'lowPlate': 'int32', \n",
    "        'plateNo': 'string', \n",
    "        'plateType': 'int32',\n",
    "        'remainSeatCnt': 'int32', \n",
    "        'routeId': 'int32', \n",
    "        'stationId': 'int32', \n",
    "        'stationSeq': 'int32'\n",
    "    })\n",
    "\n",
    "    return _df"
   ]
  },
  {
   "cell_type": "code",
   "execution_count": null,
   "metadata": {},
   "outputs": [],
   "source": [
    "def makePlateNoList(_df):\n",
    "    # 차량 운행기록을 \"plateNo\"를 기준으로 구분합니다.\n",
    "    plateNoList = _df.groupby(['plateNo']).size().index\n",
    "    return plateNoList"
   ]
  },
  {
   "cell_type": "code",
   "execution_count": null,
   "metadata": {},
   "outputs": [],
   "source": [
    "def testPlateNo(plateNo):\n",
    "    # 차량 번호 한개에 대해서 검사를 실행합니다.\n",
    "    temp_df =_df[_df['plateNo']==plateNo].sort_values(by='DateTime').reset_index(drop=True)\n",
    "    tempIndexList = []\n",
    "    for i in range(1, len(temp_df)):\n",
    "        if(temp_df.iloc[i-1]['stationSeq'] > temp_df.iloc[i]['stationSeq']):\n",
    "                tempIndexList.append(i)\n",
    "                print((temp_df.iloc[i-1]['stationSeq'] , temp_df.iloc[i]['stationSeq']))\n",
    "                print(i)\n",
    "\n",
    "        tempIndexList.append(len(temp_df))\n",
    "    # display(temp_df)\n",
    "    return temp_df"
   ]
  },
  {
   "cell_type": "code",
   "execution_count": null,
   "metadata": {},
   "outputs": [],
   "source": [
    "def initDf(station_df):\n",
    "    # 정류장의 수 만큼 행을 갖는 빈 데이터프레임을 생성합니다. \n",
    "    rangeIndex = station_df.index\n",
    "    _oneDay_df = pd.DataFrame(index = rangeIndex)\n",
    "    return _oneDay_df"
   ]
  },
  {
   "cell_type": "code",
   "execution_count": null,
   "metadata": {},
   "outputs": [],
   "source": [
    "def makeRangeIndex(station_df):\n",
    "    return station_df.index"
   ]
  },
  {
   "cell_type": "code",
   "execution_count": null,
   "metadata": {},
   "outputs": [],
   "source": [
    "def dropDupDf(_df, plateNoList, station_df):\n",
    "    _oneDay_df = initDf(station_df)\n",
    "    # 각 차량 번호를 기준으로 반복문을 수행합니다.\n",
    "    for plateNo in plateNoList:\n",
    "\n",
    "        '''특정 차량번호와 같은(_df['plateNo'] == plateNo) 운행기록을 \n",
    "           DateTime을 기준으로 오름차순으로 정렬(sort_values(['DateTime']합니다.'''\n",
    "        samebus_df = pd.DataFrame()\n",
    "        sameBus_df = _df[_df['plateNo'] == plateNo].sort_values(['DateTime']).reset_index(drop=True)\n",
    "\n",
    "        '''버스는 뒤로가지 않으므로 \"stationSeq\"가 작아지는 인덱스 i의 리스트를 만듭니다.\n",
    "           API 호출 오류로 stationSeq가 작아지는 경우가 있습니다. 이 문제를 해결하기 위해 보정계수 diff를 둡니다. \n",
    "           diff는 노선의 정류장의 총 개수(rangeIndex.stop)에 일정비율(diffRate)을 곱하여 정의합니다.'''\n",
    "        indexList = []\n",
    "        diffRate = 0.8\n",
    "        isUsingDiff = True\n",
    "        diff = rangeIndex.stop * diffRate if ( isUsingDiff ) else 0\n",
    "        for i in range(1,len(sameBus_df)):\n",
    "            if(sameBus_df.iloc[i-1]['stationSeq'] > sameBus_df.iloc[i]['stationSeq'] + diff ):\n",
    "                indexList.append(i)\n",
    "                #print((sameBus_df.iloc[i-1]['stationSeq'] , sameBus_df.iloc[i]['stationSeq']))\n",
    "\n",
    "        indexList.append(len(sameBus_df))\n",
    "        #print(plateNo, indexList)\n",
    "\n",
    "\n",
    "        # 첫번재 인덱스, 인덱스의 리스트, 마지막 인덱스를 조합하여 호차별로 운행기록을 구분합니다.\n",
    "        index = 0\n",
    "        #tupleList = []\n",
    "        for i in indexList:\n",
    "            #tupleList.append((index, i))\n",
    "            small_df = sameBus_df.iloc[index:i].groupby(by=['stationSeq']).min()\n",
    "\n",
    "            # 정류소 데이터프레임에 합칩니다.\n",
    "            merge_df = pd.merge(station_df, small_df, how='outer', on='stationId')\n",
    "            # merge_df = merge_df.set_index(keys='stationSeq')\n",
    "\n",
    "            _oneDay_df[str(plateNo)+'_'+str(index)] = merge_df['DateTime']\n",
    "            index=i\n",
    "\n",
    "    return _oneDay_df"
   ]
  },
  {
   "cell_type": "code",
   "execution_count": null,
   "metadata": {},
   "outputs": [],
   "source": [
    "def dropNullCol(_oneDay_df):\n",
    "    #모든 행이 NULL인 열의 인덱스를 리스트 'nullColList'에 저장합니다.\n",
    "    nullColList = []\n",
    "    for colIdx, nullCnt in enumerate(_oneDay_df.isnull().sum(axis=0)):\n",
    "        stationCnt = station_df.index.stop-1\n",
    "        if(nullCnt == stationCnt):\n",
    "            nullColList.append(colIdx)\n",
    "    # /print nullColList\n",
    "\n",
    "    nullColumnNameList = []\n",
    "    for colIndex in nullColList:\n",
    "        nullColumnNameList.append(_oneDay_df.columns[colIndex])\n",
    "    # /print nullColumnNameList\n",
    "\n",
    "    for nullColumnName in nullColumnNameList:\n",
    "    #     /print nullColumnName\n",
    "        _oneDay_df.drop(columns=[nullColumnName], inplace=True)\n",
    "    \n",
    "    temp_df = _oneDay_df.copy()\n",
    "    \n",
    "    return temp_df"
   ]
  },
  {
   "cell_type": "code",
   "execution_count": null,
   "metadata": {},
   "outputs": [],
   "source": [
    "def get_full_data_index(_temp_df):\n",
    "    '''\n",
    "    함수 [get_full_data_index(df)]은 데이터프레임 안에서 결측치가 하나도 없는 행의 index를 반환합니다.\n",
    "    시간표를 배차 시간순으로 정렬하기 위해 데이터프레임의 첫번째 행을 기준으로 열(axis=1)을 정렬합니다.\n",
    "    하지만 데이터프레임의 첫번째 행을 기준으로 정렬을 하게되면 결측치로 인하여 정렬이 안되는 열이 발생합니다.\n",
    "    결측치가 없는 행을 찾기 위해 제작한 함수 입니다.\n",
    "    모든 행에 결측치가 존재하면 -1을 반환합니다.\n",
    "    '''\n",
    "    for i in _temp_df.index:\n",
    "        nullCountSum = int(_temp_df[i-1:i].isnull().sum(axis=1))\n",
    "        if nullCountSum == 0:\n",
    "            return i\n",
    "    #print(\"모든 행에 결측치가 존재합니다.\")    \n",
    "    return -1"
   ]
  },
  {
   "cell_type": "code",
   "execution_count": null,
   "metadata": {},
   "outputs": [],
   "source": [
    "def sortedCol(_oneDay_df):\n",
    "    # ISSUE* 모든행에 결측치가 존재할때, if(lineIndex == -1), 예외처리가 필요합니다.\n",
    "    '''\n",
    "    예외 처리 방법\n",
    "    DatatFrame.fillna 메소드를 이용하여 결측치를 1회 채운다음\n",
    "    다시 함수 'get_full_data_index'를 호출한다.\n",
    "    단, 결측치를 처리한 데이터프레임에선 정렬 기준(columns)만 취한다.\n",
    "    + 결측치가 없는 두개의 행을 비교하여 순서가 같은지 검정한다. (기능 추가필요)\n",
    "    '''\n",
    "    temp_df = _oneDay_df.copy()\n",
    "    lineIndex = -1\n",
    "    fillnaCnt = 0\n",
    "    i = 0\n",
    "    while(lineIndex < 0):\n",
    "        i += 1\n",
    "        lineIndex = get_full_data_index(temp_df)    \n",
    "        temp_df.fillna(method='bfill', limit=1, inplace = True)\n",
    "\n",
    "    '''\n",
    "    결측치가 하나도 없는 행(lineIndex)를 기준으로 데이터프레임의 열(columns)를 정렬한다.\n",
    "    정렬 후 데이터 프레임의 열의 순서를 변수 'sortedDfColumns' 리스트에 저장한다.\n",
    "    정렬된 컬럼 리스트로 _oneDay_df를 정렬하고 이를 oneDay_df에 저장한다.\n",
    "    '''\n",
    "    sortedDfColumns = temp_df.sort_values(by=lineIndex, axis=1).columns\n",
    "    print(\"함수를 {:2d}번 호출하였습니다. 정렬기준: {:2d}\".format(i, lineIndex))\n",
    "\n",
    "    return sortedDfColumns"
   ]
  },
  {
   "cell_type": "markdown",
   "metadata": {},
   "source": [
    "### 노선ID(routeId)별 정류소정보 DataFrame"
   ]
  },
  {
   "cell_type": "code",
   "execution_count": null,
   "metadata": {},
   "outputs": [],
   "source": [
    "routeId = 204000046\n",
    "year = 2020\n",
    "month = 12\n",
    "day = 31"
   ]
  },
  {
   "cell_type": "code",
   "execution_count": null,
   "metadata": {},
   "outputs": [],
   "source": [
    "todayDateTimeStr = todayStr(year, month, day)\n",
    "outputFileName = todayDateTimeStr + '.csv'\n",
    "oneLineXML = apiInfo(routeId)\n",
    "station_df = makeInfoDf(oneLineXML)\n",
    "rangeIndex = makeRangeIndex(station_df)"
   ]
  },
  {
   "cell_type": "markdown",
   "metadata": {},
   "source": [
    "### 날짜별 로우데이터(raw-data) DataFrame"
   ]
  },
  {
   "cell_type": "code",
   "execution_count": null,
   "metadata": {},
   "outputs": [],
   "source": [
    "\"\"\"\n",
    "_df >>> _dropDup_df >>> _dropNull_df >>> oneDay_df\n",
    "\n",
    "\"\"\"\n",
    "# raw data, not time table.\n",
    "_df = rawDf(routeId, year, month, day)\n",
    "plateNoList = makePlateNoList(_df)\n",
    "\n",
    "# drop dupolicate data, time table...\n",
    "_dropDup_df =  dropDupDf(_df, plateNoList, station_df)\n",
    "\n",
    "# drop whole-Null Column\n",
    "_dropNull_df = dropNullCol(_dropDup_df)\n",
    "\n",
    "# sorting DataFrame with sorted DataFrame Columns List which is from fillna-ed DataFrame\n",
    "sortedDfColumns = sortedCol(_dropNull_df)\n",
    "oneDay_df = _dropNull_df[sortedDfColumns].copy()"
   ]
  },
  {
   "cell_type": "markdown",
   "metadata": {},
   "source": [
    "### 최종 데이터프레임을 csv확장자 파일로 출력"
   ]
  },
  {
   "cell_type": "code",
   "execution_count": null,
   "metadata": {},
   "outputs": [],
   "source": [
    "outputFolderPath = os.getcwd() + '/out/' + str(routeId) + '/'\n",
    "createFolder(outputFolderPath)\n",
    "outputFilePath = outputFolderPath + outputFileName"
   ]
  },
  {
   "cell_type": "code",
   "execution_count": null,
   "metadata": {},
   "outputs": [],
   "source": [
    "oneDay_df.to_csv(outputFilePath, index=False, date_format='%Y-%m-%d %H:%M%S')"
   ]
  },
  {
   "cell_type": "markdown",
   "metadata": {},
   "source": [
    "### csv파일에 저장된 데이터를 datetime 형식으로 변환하여 데이터프레임에 저장"
   ]
  },
  {
   "cell_type": "code",
   "execution_count": null,
   "metadata": {},
   "outputs": [],
   "source": [
    "'''\n",
    "to_datetime Value Error: at least that [year, month, day] must be specified Pandas\n",
    "https://stackoverflow.com/questions/39992411/to-datetime-value-error-at-least-that-year-month-day-must-be-specified-pand/39992541#39992541\n",
    "'''\n",
    "df = pd.read_csv(outputFilePath)\n",
    "df = pd.to_datetime(df.stack(), format='%Y-%m-%d %H:%M%S').unstack()"
   ]
  },
  {
   "cell_type": "markdown",
   "metadata": {},
   "source": [
    "## 여러 날짜의 출차기록을 데이터프레임으로 출력한다"
   ]
  },
  {
   "cell_type": "code",
   "execution_count": null,
   "metadata": {},
   "outputs": [],
   "source": [
    "dayList = [28, 29, 30, 31]\n",
    "for _day in dayList:\n",
    "    todayDateTimeStr = todayStr(year, month, _day)\n",
    "    outputFileName = todayDateTimeStr + '.csv'\n",
    "    \n",
    "    outputFolderPath = os.getcwd() + '/out/' + str(routeId) + '/'\n",
    "    createFolder(outputFolderPath)\n",
    "    outputFilePath = outputFolderPath + outputFileName\n",
    "    \n",
    "    #/print outputFilePath\n",
    "    df = pd.read_csv(outputFilePath)\n",
    "    #display(df.iloc[1:2])"
   ]
  },
  {
   "cell_type": "markdown",
   "metadata": {},
   "source": [
    "## 앞차와 뒷차의 운행기록을 기준으로 결측치를 채운다."
   ]
  },
  {
   "cell_type": "code",
   "execution_count": null,
   "metadata": {},
   "outputs": [],
   "source": [
    "'''\n",
    "01. 데이터프레임의 행 하나(시리즈)를 가져온다.\n",
    "02. 시리즈의 각 데이터에서 기준시간을 빼서 timedelta 타입으로 변환한다.\n",
    "    메소드 'interpolate'를 호출하기 위해선 데이터 타입이 'timedelta'여야 한다. \n",
    "03. Series.interpolate()를 호출하여 결측치를 채운다.\n",
    "04. timedelta 타입 데이터를 datetime 타입으로 형 변환한다.\n",
    "05. 시리즈를 반환한다. 함수 종료.\n",
    "'''\n",
    "isShowInfo = True\n",
    "\n",
    "# 1.\n",
    "datetimeArr = df.iloc[2]\n",
    "\n",
    "# 2. 시리즈(np.array)에서 기준시간을 뺀다. 데이터 타입이 timedelta로 바뀐다.\n",
    "\n",
    "sampleTime = np.datetime64(todayDateTimeStr)\n",
    "timedeltaArr = datetimeArr - sampleTime\n",
    "timedeltaSeries = pd.Series(timedeltaArr)\n",
    "totalSecondsSeries = timedeltaSeries.dt.total_seconds()\n",
    "\n",
    "# *데이터 확인\n",
    "if (isShowInfo):\n",
    "    # Count NaT\n",
    "    beforeNullCnt = timedeltaSeries.isnull().sum()\n",
    "    print(f\"결측치 처리 이전 NaT Cnt:{beforeNullCnt:3d}개\")\n",
    "    \n",
    "    # Display numpy array dataframe style\n",
    "    tempDfTDS = pd.DataFrame(datetimeArr).transpose()\n",
    "    display(tempDfTDS)\n",
    "\n",
    "# 3. Series.interpolate() 메소드를 호출하여 결측치를 채운다\n",
    "newTimedeltaSeries = totalSecondsSeries.interpolate(limit=1)\n",
    "\n",
    "# 4. \n",
    "newDatetimeSeries = pd.to_datetime(newTimedeltaSeries, unit='s')\n",
    "newDatetimeSeries = newDatetimeSeries.dt.strftime('%Y-%m-%d %H:%M:%S')\n",
    "\n",
    "# *데이터 확인\n",
    "if (isShowInfo):\n",
    "    # Count NaT\n",
    "    beforeNullCnt = newTimedeltaSeries.isnull().sum()\n",
    "    print(f\"결측치 처리 이전 NaT Cnt:{beforeNullCnt:3d}개\")\n",
    "    \n",
    "    # Display numpy array dataframe style\n",
    "    tempDfTDS = pd.DataFrame(newDatetimeSeries).transpose()\n",
    "    display(tempDfTDS)"
   ]
  },
  {
   "cell_type": "markdown",
   "metadata": {},
   "source": [
    "## 배차간격을 확인하고 오류데이터를 NaN으로 변환한다."
   ]
  },
  {
   "cell_type": "code",
   "execution_count": null,
   "metadata": {},
   "outputs": [],
   "source": [
    "'''\n",
    "앞차와 뒷차의 배차간격을 저장하는 리스트를 반환한다. \n",
    "01. 첫번째 데이터를 예외처리한다. \n",
    "    배차간격의 수는 배차수 - 1 이므로 첫번째 데이터를 0으로 하거나 첫차시간을 기록한다.\n",
    "02. 앞차(prevData) 또는 뒷차(nextData)가 NaT일때 예외처리 한다.\n",
    "    next\n",
    "03. 오류데이터(운행 기록 시간이 작아짐)를 예외처리 한다.\n",
    "'''\n",
    "prevData = 0\n",
    "intervalList = []\n",
    "i = 0\n",
    "\n",
    "for nextData in newTimedeltaSeries:\n",
    "    i += 1\n",
    "    interval = -9999\n",
    "    if(prevData):\n",
    "        interval = nextData - prevData\n",
    "        if(interval<0):\n",
    "            '''\n",
    "            오류데이터를 시리즈 데이터에서 NaT로 초기화하는 과정이 필요하다.\n",
    "            함수로 사용한다면 시리즈 데이터의 값이 바뀔수 있도록 접근해야 한다.\n",
    "            '''\n",
    "            newTimedeltaSeries.iloc[i] = float('NaN')\n",
    "            interval = float('NaN')\n",
    "            intervalList.append(interval)\n",
    "            prevData = 0\n",
    "            continue\n",
    "        interval /= 60\n",
    "        intervalList.append(interval)\n",
    "    else:\n",
    "        interval = float('NaN')\n",
    "        intervalList.append(interval)\n",
    "#     print(f\"{i:3d}\\tPREV: {prevData:10.0f}\\tNEXT: {nextData:10.0f}\\tINTERVAL: {interval:7.1f}\")\n",
    "    \n",
    "    prevData = nextData\n",
    "\n",
    "intervalList = np.round(intervalList, 0)\n",
    "print(f\"INT LIST의 데이터 수:{len(intervalList):3d}\\n\", intervalList)"
   ]
  },
  {
   "cell_type": "code",
   "execution_count": null,
   "metadata": {},
   "outputs": [],
   "source": [
    "plt.figure(figsize=(10, 2))\n",
    "plt.scatter(np.arange(len(intervalList)), intervalList, s=intervalList>0)\n",
    "plt.show()"
   ]
  },
  {
   "cell_type": "markdown",
   "metadata": {},
   "source": [
    "### 출차 시간을 그래프에 찍어본다."
   ]
  },
  {
   "cell_type": "code",
   "execution_count": null,
   "metadata": {},
   "outputs": [],
   "source": [
    "'''\n",
    "01. 데이터프레임의 행 하나(시리즈)를 가져온다.\n",
    "02. 시리즈의 각 데이터에서 기준시간, 조사일의 자정(00시)),을 빼서 timedelta 타입으로 변환한다.\n",
    "'''\n",
    "isShowInfo = True\n",
    "\n",
    "# 1.\n",
    "datetimeArr = oneDay_df.iloc[0]\n",
    "\n",
    "# 2. 시리즈(np.array)에서 기준시간을 뺀다. 데이터 타입이 timedelta로 바뀐다.\n",
    "sampleTime = np.datetime64(todayDateTimeStr)\n",
    "timedeltaArr = datetimeArr - sampleTime\n",
    "timedeltaSeries = pd.Series(timedeltaArr)\n",
    "totalSecondsSeries = timedeltaSeries.dt.total_seconds()\n",
    "totalSecondsSeries /= 60\n",
    "totalSecondsSeries\n",
    "\n",
    "plt.figure(figsize=(10, 2))\n",
    "plt.scatter(np.arange(len(totalSecondsSeries)), totalSecondsSeries, s=totalSecondsSeries>0)\n",
    "plt.show()"
   ]
  },
  {
   "cell_type": "code",
   "execution_count": null,
   "metadata": {},
   "outputs": [],
   "source": [
    "'''\n",
    "01. 데이터프레임의 행 하나(시리즈)를 가져온다.\n",
    "02. 시리즈의 각 데이터에서 기준시간, 조사일의 자정(00시)),을 빼서 timedelta 타입으로 변환한다.\n",
    "'''\n",
    "plt.figure(figsize=(20, 5))\n",
    "\n",
    "for i in range(3):\n",
    "    # 1.\n",
    "    datetimeArr = oneDay_df.iloc[i]\n",
    "\n",
    "    # 2. 시리즈(np.array)에서 기준시간을 뺀다. 데이터 타입이 timedelta로 바뀐다.\n",
    "    sampleTime = np.datetime64(todayDateTimeStr)\n",
    "    timedeltaArr = datetimeArr - sampleTime\n",
    "    timedeltaSeries = pd.Series(timedeltaArr)\n",
    "    totalSecondsSeries = timedeltaSeries.dt.total_seconds()\n",
    "    totalSecondsSeries /= 60\n",
    "    totalSecondsSeries\n",
    "\n",
    "    plt.scatter(np.arange(len(totalSecondsSeries)), totalSecondsSeries, s=totalSecondsSeries>0)\n",
    "plt.show()"
   ]
  },
  {
   "cell_type": "code",
   "execution_count": null,
   "metadata": {},
   "outputs": [],
   "source": [
    "hours = newTimedeltaSeries//3600\n",
    "minutes = round(newTimedeltaSeries/60 - (hours)*60)\n",
    "for h, m in zip(hours, minutes):\n",
    "    try:\n",
    "        print(int(h), int(m), sep=':')\n",
    "    except:\n",
    "        print('nan')"
   ]
  },
  {
   "cell_type": "code",
   "execution_count": null,
   "metadata": {},
   "outputs": [],
   "source": [
    "newDatetimeSeries = pd.to_datetime(newTimedeltaSeries, unit='s')\n",
    "newDatetimeSeries = newDatetimeSeries.dt.strftime('%Y-%m-%d %H:%M:%S')\n",
    "pd.DataFrame(newDatetimeSeries).transpose()"
   ]
  },
  {
   "cell_type": "markdown",
   "metadata": {},
   "source": [
    "## 시간별 첫차 시간표를 작성한다."
   ]
  },
  {
   "cell_type": "code",
   "execution_count": null,
   "metadata": {},
   "outputs": [],
   "source": [
    "\"\"\"\n",
    "시간(hour)을 기준으로 데이터프레임의 열(column)을 세우고 출차 시간(minute)을 기록한 데이터 프레임을 반환한다.\n",
    "열의 수: 첫차 시간(예: 05시) 부터 막차 시간(예: 23시) 까지 시간(hour)의 수, 예: 23 - 5 + 1, 19열\n",
    "행의 수: 시간당 최대 배차 수\n",
    "\"\"\""
   ]
  },
  {
   "cell_type": "markdown",
   "metadata": {},
   "source": [
    "## datetime을 string으로 형변환한다"
   ]
  },
  {
   "cell_type": "code",
   "execution_count": null,
   "metadata": {},
   "outputs": [],
   "source": [
    "# datetime 객체를 string 객체로 변환합니다. 시간을 가지고 계산해야 하는 일은 이전에 실행하세요.\n",
    "oneDayString_df = oneDay_df.astype('string')\n",
    "for column in oneDayString_df.columns:\n",
    "    oneDayString_df[column] = oneDayString_df[column].str.slice(start=10, stop=16)\n",
    "# print(oneDayString_df.shape)\n",
    "    \n",
    "# [column명 : 차량번호] station_df 와 oneDay_df를 합칩니다. datetime이 아닌 다른 타입의 오브젝트가 행에 붙게 되므로 지금부터는 편집이 어렵습니다.\n",
    "_finalOneDay_df = pd.concat([station_df,oneDayString_df], axis=1)\n",
    "_finalOneDay_df.set_index('stationSeq', drop=True, inplace=True)\n",
    "_finalOneDay_df.shape"
   ]
  },
  {
   "cell_type": "code",
   "execution_count": null,
   "metadata": {},
   "outputs": [],
   "source": [
    "# 정렬된 column에 출차 순서를 배정합니다. (1호차, 2호차, ...)\n",
    "oneDayString_df.columns = oneDayString_df.columns"
   ]
  },
  {
   "cell_type": "code",
   "execution_count": null,
   "metadata": {},
   "outputs": [],
   "source": [
    "# [column명 : n호차] station_df 와 oneDay_df를 합칩니다. datetime이 아닌 다른 타입의 오브젝트가 행에 붙게 되므로 지금부터는 편집이 어렵습니다.\n",
    "finalOneDay_df = pd.concat([station_df,oneDayString_df], axis=1)\n",
    "df = finalOneDay_df.set_index('stationSeq', drop=True)"
   ]
  },
  {
   "cell_type": "code",
   "execution_count": null,
   "metadata": {},
   "outputs": [],
   "source": [
    "html = df.to_html()\n",
    "# writedata.py\n",
    "f = open(\"test.html\", 'w')\n",
    "\n",
    "f.write(html)\n",
    "f.close()"
   ]
  },
  {
   "cell_type": "code",
   "execution_count": null,
   "metadata": {},
   "outputs": [],
   "source": [
    "for i in range(len(station_df)):\n",
    "    location = (station_df.iloc[i]['y'], station_df.iloc[i]['x'])\n",
    "    stationName = station_df.iloc[i]['stationName']\n",
    "#     print(\"{content: '<div>\", stationName, \"</div>',latlng: new kakao.maps.LatLng\", location, \"},\", sep=\"\")"
   ]
  },
  {
   "cell_type": "markdown",
   "metadata": {},
   "source": [
    "## 일일 시간표 데이터 csv로 내보내기"
   ]
  },
  {
   "cell_type": "code",
   "execution_count": null,
   "metadata": {},
   "outputs": [],
   "source": [
    "rootPath = 'C:/Users/jongh/OneDrive/School/석사/1-2/자료구조/프로젝트/5.DATA/Master/dataAPI/DailyTimeTable/' + str(routeId)\n",
    "createFolder(rootPath)\n",
    "outputPath = rootPath + '/' + str(routeId) + '_' + str(year)[-2:] + '-' + str(month) + '-' + str(day) + '.csv'\n",
    "df.to_csv(outputPath)"
   ]
  },
  {
   "cell_type": "markdown",
   "metadata": {},
   "source": [
    "# CSV 파일을 읽어서 EXCEL파일로 내보낸다 : 블로그 게시 목적"
   ]
  },
  {
   "cell_type": "markdown",
   "metadata": {},
   "source": [
    "## 일일 시간표 데이터 csv 읽어오기"
   ]
  },
  {
   "cell_type": "code",
   "execution_count": null,
   "metadata": {},
   "outputs": [],
   "source": [
    "df = pd.read_csv(outputPath)"
   ]
  },
  {
   "cell_type": "markdown",
   "metadata": {},
   "source": [
    "## 노선번호 받아오기"
   ]
  },
  {
   "cell_type": "code",
   "execution_count": null,
   "metadata": {},
   "outputs": [],
   "source": [
    "KEY = 'yEaR%2F3MDedRSlVJL%2F2pxnVg0yre1N5VF3RZ%2FUAt56MJ7J2mNpfqhUvy05pXV0uhHTVY7DbyCR8xmMaDdYga67Q%3D%3D' # 종현\n",
    "apiKey = unquote(KEY)\n",
    "\n",
    "# 노선정보항목조회 busrouteservice/info\n",
    "# 해당 노선에 대한 노선번호, 기점/종점 정류소, 첫차/막차시간, 배차간격, 운행업체 등의 운행계획 정보를 제공합니다.\n",
    "url = 'http://openapi.gbis.go.kr/ws/rest/busrouteservice/info'\n",
    "queryParams = '?' + urlencode({ quote_plus('serviceKey') : apiKey, quote_plus('routeId') : routeId })\n",
    "# print(url+queryParams)\n",
    "\n",
    "request = Request(url + queryParams)\n",
    "request.get_method = lambda: 'GET'\n",
    "oneLineXML = urlopen(request).read().decode('utf8')\n",
    "# print(oneLineXML)\n",
    "\n",
    "xtree = ET.fromstring(oneLineXML)\n",
    "resultCode = int(xtree[1].find(\"resultCode\").text)\n",
    "msgBody = xtree[2]\n",
    "\n",
    "busRouteInfoItem = msgBody[0]\n",
    "i=0\n",
    "for info in busRouteInfoItem:\n",
    "    print(f\"{i} {info.tag} : {info.text}\")\n",
    "    i+=1"
   ]
  },
  {
   "cell_type": "code",
   "execution_count": null,
   "metadata": {},
   "outputs": [],
   "source": [
    "routeName = busRouteInfoItem.find(\"routeName\").text"
   ]
  },
  {
   "cell_type": "markdown",
   "metadata": {},
   "source": [
    "## Excel로 내보내기"
   ]
  },
  {
   "cell_type": "code",
   "execution_count": null,
   "metadata": {},
   "outputs": [],
   "source": [
    "rootPath = 'C:/Users/jongh/OneDrive/School/석사/1-2/자료구조/프로젝트/5.DATA/Master/dataAPI/ExcelExport/'\n",
    "excelFileName = str(routeName) + '.xlsx'\n",
    "filePath = rootPath + excelFileName\n",
    "\n",
    "createFolder(rootPath)\n",
    "print(filePath)"
   ]
  },
  {
   "cell_type": "markdown",
   "metadata": {},
   "source": [
    "### 배포용 DataFrame 수정"
   ]
  },
  {
   "cell_type": "code",
   "execution_count": null,
   "metadata": {},
   "outputs": [],
   "source": [
    "export_df = df.set_index('stationName').drop('stationId', axis=1)"
   ]
  },
  {
   "cell_type": "markdown",
   "metadata": {},
   "source": [
    "### 내보내기"
   ]
  },
  {
   "cell_type": "code",
   "execution_count": null,
   "metadata": {},
   "outputs": [],
   "source": [
    "#-- write an object to an Excel sheet using pd.DataFrame.to_excel()\n",
    "export_df.to_excel(filePath, # directory and file name to write\n",
    "            sheet_name = '평일', \n",
    "            na_rep = 'NaN', \n",
    "            float_format = \"%.2f\", \n",
    "            header = True, \n",
    "            #columns = [\"group\", \"value_1\", \"value_2\"], # if header is False\n",
    "            index = True, \n",
    "            index_label = \"정류장\", \n",
    "            startrow = 0, \n",
    "            startcol = 0, \n",
    "            engine = 'openpyxl', \n",
    "            freeze_panes = (1, 1)\n",
    "            )"
   ]
  },
  {
   "cell_type": "markdown",
   "metadata": {},
   "source": [
    "## Excel 접근하여 수정하기\n",
    "https://naakjii.tistory.com/56"
   ]
  },
  {
   "cell_type": "code",
   "execution_count": null,
   "metadata": {},
   "outputs": [],
   "source": [
    "wb = openpyxl.load_workbook(filePath)\n",
    "sheet = wb['평일']"
   ]
  },
  {
   "cell_type": "code",
   "execution_count": null,
   "metadata": {},
   "outputs": [],
   "source": [
    "sheet.max_column, sheet.max_row"
   ]
  },
  {
   "cell_type": "code",
   "execution_count": null,
   "metadata": {},
   "outputs": [],
   "source": [
    "sheet.column_dimensions['A'].width = 14"
   ]
  },
  {
   "cell_type": "code",
   "execution_count": null,
   "metadata": {},
   "outputs": [],
   "source": [
    "for cell in sheet['A']:\n",
    "    cell.alignment = openpyxl.styles.Alignment(horizontal='left', vertical='center')\n",
    "#     cell.fill = openpyxl.styles.fills.PatternFill(patternType='solid', fgColor=openpyxl.styles.colors.Color(rgb='00FF00'))"
   ]
  },
  {
   "cell_type": "code",
   "execution_count": null,
   "metadata": {},
   "outputs": [],
   "source": [
    "wb.save(filePath)"
   ]
  },
  {
   "cell_type": "code",
   "execution_count": null,
   "metadata": {},
   "outputs": [],
   "source": [
    "wb.close()"
   ]
  }
 ],
 "metadata": {
  "kernelspec": {
   "display_name": "Python 3",
   "language": "python",
   "name": "python3"
  },
  "language_info": {
   "codemirror_mode": {
    "name": "ipython",
    "version": 3
   },
   "file_extension": ".py",
   "mimetype": "text/x-python",
   "name": "python",
   "nbconvert_exporter": "python",
   "pygments_lexer": "ipython3",
   "version": "3.8.5"
  }
 },
 "nbformat": 4,
 "nbformat_minor": 4
}
