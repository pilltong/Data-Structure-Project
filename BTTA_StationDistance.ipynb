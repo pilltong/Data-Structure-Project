{
 "cells": [
  {
   "cell_type": "markdown",
   "metadata": {},
   "source": [
    "## 라이브러리 불러오기"
   ]
  },
  {
   "cell_type": "code",
   "execution_count": 1,
   "metadata": {},
   "outputs": [],
   "source": [
    "# API 호출\n",
    "# ## https://data.go.kr/tcs/dss/selectApiDataDetailView.do?publicDataPk=15057440\n",
    "from urllib.request import Request, urlopen\n",
    "# Request https://docs.python.org/ko/3/library/urllib.request.html#urllib.request.Request\n",
    "# urlopen https://docs.python.org/ko/3/library/urllib.request.html#urllib.request.urlopen\n",
    "from urllib.parse import urlencode, quote_plus\n",
    "# urlenocde https://docs.python.org/ko/3/library/urllib.parse.html#urllib.parse.urlencode\n",
    "# quote_plus https://docs.python.org/ko/3/library/urllib.parse.html#urllib.parse.quote_plus\n",
    "from urllib.parse import unquote\n",
    "import requests\n",
    "\n",
    "# 시간 생성\n",
    "import time\n",
    "import datetime\n",
    "from pytz import timezone, utc\n",
    "\n",
    "# 폴더 자동 생성\n",
    "import os\n",
    "\n",
    "# 코드 스케줄링\n",
    "import threading\n",
    "# import schedule\n",
    "\n",
    "# XML 파싱\n",
    "import xml.etree.ElementTree as ET\n",
    "\n",
    "# 입력데이터 데이터프레임 작성\n",
    "import pandas as pd\n",
    "import numpy as np\n",
    "\n",
    "# DataFrame 화면 출력                                                # DataFrame 화면 출력 설정이 변경되어 있습니다 #\n",
    "from IPython.display import display\n",
    "pd.options.display.max_columns = None\n",
    "pd.options.display.max_rows = None # default = 60\n",
    "\n",
    "#EXCEL\n",
    "import openpyxl\n",
    "\n",
    "# 배차간격 확인 scatter plot 출력\n",
    "import matplotlib.pyplot as plt"
   ]
  },
  {
   "cell_type": "code",
   "execution_count": 2,
   "metadata": {},
   "outputs": [],
   "source": [
    "# 폴더 자동 생성 함수\n",
    "# https://data-make.tistory.com/170\n",
    "def createFolder(directory):\n",
    "    try:\n",
    "        if not os.path.exists(directory):\n",
    "            os.makedirs(directory)\n",
    "    except OSError:\n",
    "        print ('Error: Creating directory. ' +  directory)"
   ]
  },
  {
   "cell_type": "markdown",
   "metadata": {},
   "source": [
    "## 기본값 설정하기"
   ]
  },
  {
   "cell_type": "code",
   "execution_count": 3,
   "metadata": {},
   "outputs": [],
   "source": [
    "def todayStr(year:int, month:int, day:int) -> str:\n",
    "    todayDateTimeStr = f\"{year}-{month}-{day}\"\n",
    "    return todayDateTimeStr"
   ]
  },
  {
   "cell_type": "markdown",
   "metadata": {},
   "source": [
    "## Key Unquote"
   ]
  },
  {
   "cell_type": "code",
   "execution_count": 4,
   "metadata": {},
   "outputs": [],
   "source": [
    "KEY = 'yEaR%2F3MDedRSlVJL%2F2pxnVg0yre1N5VF3RZ%2FUAt56MJ7J2mNpfqhUvy05pXV0uhHTVY7DbyCR8xmMaDdYga67Q%3D%3D' # 종현\n",
    "apiKey = unquote(KEY)"
   ]
  },
  {
   "cell_type": "markdown",
   "metadata": {},
   "source": [
    "## API 호출"
   ]
  },
  {
   "cell_type": "code",
   "execution_count": 5,
   "metadata": {},
   "outputs": [],
   "source": [
    "\"\"\"\n",
    "노선정보항목조회 busrouteservice/info\n",
    "routeId의 정류장 목록을 받아옵니다.\n",
    "\"\"\"\n",
    "def apiInfo(routeId, service='station'):\n",
    "    url = 'http://openapi.gbis.go.kr/ws/rest/busrouteservice/'\n",
    "    url += service\n",
    "    \n",
    "    queryParams = '?' + urlencode({ quote_plus('serviceKey') : apiKey, quote_plus('routeId') : routeId })\n",
    "    request = Request(url + queryParams)\n",
    "    request.get_method = lambda: 'GET'\n",
    "\n",
    "    # API를 호출하여 XML 형식으로 된 string 데이터를 변수 \"oneLineXML\" 에 저장합니다.\n",
    "    oneLineXML = urlopen(request).read().decode('utf8')\n",
    "    return oneLineXML"
   ]
  },
  {
   "cell_type": "markdown",
   "metadata": {},
   "source": [
    "## XML 파싱"
   ]
  },
  {
   "cell_type": "code",
   "execution_count": 6,
   "metadata": {},
   "outputs": [],
   "source": [
    "def makeInfoDf(routeId:int):\n",
    "    oneLineXML = apiInfo(routeId)\n",
    "\n",
    "    # xtree는 \"openapi\" 도메인 API 호출에서 \"headerCd\"에 상관없이 3개의 태그를 갖습니다.\n",
    "    # [comMsgHeader, msgHeader, msgBody]\n",
    "    xtree = ET.fromstring(oneLineXML)\n",
    "    # for branch in xtree:\n",
    "    #     print(branch)\n",
    "    msgBody = xtree[2]\n",
    "\n",
    "    tagList = [\"stationSeq\", \"stationId\", \"stationName\", \"x\", \"y\"]\n",
    "    stationList = []\n",
    "    for branch in msgBody:\n",
    "        stationList.append([branch.find(tag).text for tag in tagList])\n",
    "\n",
    "    # station_df의 index가 0부터 시작하는 문제를 해결 하기 위해 rangeIndex를 지정하였습니다.\n",
    "    stationCount = len(stationList) # 뒤에서 다시 사용되므로 함수로 선언시 주의\n",
    "    rangeIndex = pd.RangeIndex(start=1, stop=stationCount+1)\n",
    "\n",
    "    station_df = pd.DataFrame(stationList, columns=tagList, index=rangeIndex)\n",
    "    station_df = station_df.astype({\n",
    "        \"stationSeq\" : \"int32\",\n",
    "        \"stationId\" : \"int32\", \n",
    "        \"stationName\" : \"string\",\n",
    "        \"x\" : \"float\",\n",
    "        \"y\" : \"float\"\n",
    "\n",
    "    })\n",
    "    return station_df"
   ]
  },
  {
   "cell_type": "code",
   "execution_count": 7,
   "metadata": {},
   "outputs": [],
   "source": [
    "def makeLineDf(routeId:int):\n",
    "    oneLineXML = apiInfo(routeId, 'line')\n",
    "    \n",
    "    xtree = ET.fromstring(oneLineXML)\n",
    "    msgBody = xtree[2]\n",
    "    \n",
    "    tagList = [\"lineSeq\", \"x\", \"y\"]\n",
    "    busRouteLineList = []\n",
    "    for branch in msgBody:\n",
    "        busRouteLineList.append([branch.find(tag).text for tag in tagList])\n",
    "\n",
    "    pointCount = len(busRouteLineList)\n",
    "    rangeIndex = pd.RangeIndex(start=1, stop=pointCount+1)\n",
    "\n",
    "    line_df = pd.DataFrame(busRouteLineList, columns=tagList, index=rangeIndex)\n",
    "    line_df = line_df.astype({\n",
    "                                \"lineSeq\" : \"int32\",\n",
    "                                \"x\" : \"float\",\n",
    "                                \"y\" : \"float\"\n",
    "    })\n",
    "    return line_df"
   ]
  },
  {
   "cell_type": "code",
   "execution_count": 8,
   "metadata": {},
   "outputs": [],
   "source": [
    "def makeRangeIndex(station_df):\n",
    "    return station_df.index"
   ]
  },
  {
   "cell_type": "markdown",
   "metadata": {},
   "source": [
    "## 샘플데이터"
   ]
  },
  {
   "cell_type": "code",
   "execution_count": 10,
   "metadata": {},
   "outputs": [],
   "source": [
    "routeId = 204000046\n",
    "year = 2020\n",
    "month = 12\n",
    "day = 23"
   ]
  },
  {
   "cell_type": "code",
   "execution_count": 11,
   "metadata": {},
   "outputs": [],
   "source": [
    "todayDateTimeStr = todayStr(year, month, day)\n",
    "outputFileName = todayDateTimeStr + '.csv'"
   ]
  },
  {
   "cell_type": "code",
   "execution_count": 12,
   "metadata": {},
   "outputs": [],
   "source": [
    "line_df = makeLineDf(routeId)\n",
    "station_df = makeInfoDf(routeId)"
   ]
  },
  {
   "cell_type": "code",
   "execution_count": 13,
   "metadata": {},
   "outputs": [],
   "source": [
    "half = len(line_df)//2\n",
    "half_station = len(station_df)//2"
   ]
  },
  {
   "cell_type": "code",
   "execution_count": 14,
   "metadata": {},
   "outputs": [
    {
     "data": {
      "image/png": "[encoded data removed]",
      "text/plain": [
       "<Figure size 720x720 with 1 Axes>"
      ]
     },
     "metadata": {
      "needs_background": "light"
     },
     "output_type": "display_data"
    }
   ],
   "source": [
    "plt.figure(figsize=(10, 10))\n",
    "plt.plot(line_df['x'].iloc[half:half+20],line_df['y'].iloc[half:half+20])\n",
    "plt.plot(line_df['x'].iloc[half-20:half+1],line_df['y'].iloc[half-20:half+1])\n",
    "plt.scatter(line_df['x'].iloc[half-20:half+20],line_df['y'].iloc[half-20:half+20], marker='+')\n",
    "plt.scatter(line_df['x'].iloc[half],line_df['y'].iloc[half])\n",
    "plt.scatter(station_df['x'].iloc[half_station-2:half_station+2],station_df['y'].iloc[half_station-2:half_station+2])\n",
    "plt.show()"
   ]
  },
  {
   "cell_type": "markdown",
   "metadata": {},
   "source": [
    "## line_df의 점을 하나씩 접근 하는 방법과 문제점"
   ]
  },
  {
   "cell_type": "code",
   "execution_count": 18,
   "metadata": {},
   "outputs": [
    {
     "data": {
      "image/png": "[encoded data removed]",
      "text/plain": [
       "<Figure size 432x288 with 1 Axes>"
      ]
     },
     "metadata": {
      "needs_background": "light"
     },
     "output_type": "display_data"
    }
   ],
   "source": [
    "plt.scatter(line_df['x'][:120], line_df['y'][:120], marker='+')\n",
    "plt.scatter(station_df['x'][:13], station_df['y'][:13])\n",
    "plt.show()"
   ]
  },
  {
   "cell_type": "code",
   "execution_count": 15,
   "metadata": {},
   "outputs": [],
   "source": [
    "# !pip3 install haversine\n",
    "from haversine import haversine"
   ]
  },
  {
   "cell_type": "code",
   "execution_count": 16,
   "metadata": {},
   "outputs": [],
   "source": [
    "def distance(sx, sy, lx, ly):\n",
    "    #_point_diff = np.array([sx-lx, sy-ly]) #편차\n",
    "    #_dist = (_point_diff ** 2).sum() #제곱의 합\n",
    "    #dist = np.sqrt(_dist)\n",
    "    dist = haversine((sx, sy), (lx, ly)) * 1000\n",
    "    return dist # 기준거리"
   ]
  },
  {
   "cell_type": "markdown",
   "metadata": {},
   "source": [
    "### 유클리드거리와 맨하탄거리의 차이에서 발생하는 문제점"
   ]
  },
  {
   "cell_type": "code",
   "execution_count": 21,
   "metadata": {},
   "outputs": [
    {
     "data": {
      "image/png": "[encoded data removed]",
      "text/plain": [
       "<Figure size 432x288 with 1 Axes>"
      ]
     },
     "metadata": {
      "needs_background": "light"
     },
     "output_type": "display_data"
    }
   ],
   "source": [
    "j = 0\n",
    "(sx, sy) = station_df.iloc[j][['x', 'y']]\n",
    "# /print sx sy\n",
    "preDist = -1\n",
    "sumDist = 0\n",
    "sumDistList = []\n",
    "for lineIndex in line_df.index[:80]:\n",
    "    # print(f\"lineIndex: {lineIndex}\")\n",
    "    (lx, ly) = line_df.iloc[lineIndex-1][['x', 'y']]\n",
    "    nextDist = distance(sx, sy, lx, ly)\n",
    "    # print(f\"preDist: {preDist:.2f}\")\n",
    "    # print(f\"nextDist: {nextDist:.2f}\")\n",
    "    # plt.plot([(sx, sy),(lx, ly)])\n",
    "    plt.scatter(sx, sy, c='#1f77b4')\n",
    "\n",
    "    plt.scatter(lx, ly, marker='+', c='#ff7f0e')\n",
    "    # /print '(lx,ly): ' lx ly\n",
    "    plt.plot([lx,sx],[ly,sy])\n",
    "\n",
    "\n",
    "    if(preDist > nextDist):\n",
    "        sumDist += nextDist\n",
    "        preDist = nextDist\n",
    "        \n",
    "    else:\n",
    "        # 다음 station point\n",
    "        j+=1\n",
    "        #print(f\"j: {j}, lineIndex: {lineIndex}\")\n",
    "\n",
    "        (sx, sy) = station_df.iloc[j][['x', 'y']]\n",
    "        # /print '(sx,sy): ' sx sy\n",
    "\n",
    "        # 누적거리를 리스트(or DaFr)에 추가하고, 초기화\n",
    "        sumDistList.append(sumDist)\n",
    "        # /print sumDist\n",
    "        sumDist = 0\n",
    "        preDist = 99999999\n",
    "    # /print '\\n'"
   ]
  },
  {
   "cell_type": "markdown",
   "metadata": {},
   "source": [
    "## 최단거리 포인트를 찾는 방법"
   ]
  },
  {
   "cell_type": "code",
   "execution_count": null,
   "metadata": {},
   "outputs": [],
   "source": []
  }
 ],
 "metadata": {
  "kernelspec": {
   "display_name": "Python 3",
   "language": "python",
   "name": "python3"
  },
  "language_info": {
   "codemirror_mode": {
    "name": "ipython",
    "version": 3
   },
   "file_extension": ".py",
   "mimetype": "text/x-python",
   "name": "python",
   "nbconvert_exporter": "python",
   "pygments_lexer": "ipython3",
   "version": "3.8.5"
  }
 },
 "nbformat": 4,
 "nbformat_minor": 4
}
