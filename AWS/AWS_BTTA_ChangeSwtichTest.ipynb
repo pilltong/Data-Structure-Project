{
 "cells": [
  {
   "cell_type": "code",
   "execution_count": 1,
   "metadata": {},
   "outputs": [],
   "source": [
    "# API 호출\n",
    "# ## https://data.go.kr/tcs/dss/selectApiDataDetailView.do?publicDataPk=15057440\n",
    "from urllib.request import Request, urlopen\n",
    "# Request https://docs.python.org/ko/3/library/urllib.request.html#urllib.request.Request\n",
    "# urlopen https://docs.python.org/ko/3/library/urllib.request.html#urllib.request.urlopen\n",
    "from urllib.parse import urlencode, quote_plus\n",
    "# urlenocde https://docs.python.org/ko/3/library/urllib.parse.html#urllib.parse.urlencode\n",
    "# quote_plus https://docs.python.org/ko/3/library/urllib.parse.html#urllib.parse.quote_plus\n",
    "from urllib.parse import unquote\n",
    "import requests\n",
    "\n",
    "# 시간 생성\n",
    "import time\n",
    "import datetime\n",
    "from pytz import timezone, utc\n",
    "\n",
    "# 폴더 자동 생성\n",
    "import os\n",
    "\n",
    "# 코드 스케줄링\n",
    "import threading\n",
    "import schedule\n",
    "\n",
    "import pandas as pd\n",
    "\n",
    "# XML 파싱\n",
    "import xml.etree.ElementTree as ET"
   ]
  },
  {
   "cell_type": "code",
   "execution_count": 2,
   "metadata": {},
   "outputs": [],
   "source": [
    "def getOnlyDirectory(index):\n",
    "    \n",
    "    global subCategoryDict, category\n",
    "    rootDirectory = os.getcwd()\n",
    "    \n",
    "    subCategory = subCategoryDict[index]\n",
    "    directory = rootDirectory + category + subCategory\n",
    "    return directory"
   ]
  },
  {
   "cell_type": "code",
   "execution_count": 3,
   "metadata": {},
   "outputs": [],
   "source": [
    "def getDirectory(index, routeId):\n",
    "    global subCategoryDict, category\n",
    "    rootDirectory = os.getcwd()\n",
    "    # category = '/TEST'\n",
    "    subCategory = subCategoryDict[index]\n",
    "    directory = rootDirectory + category + subCategory + str(routeId) + '/'\n",
    "    return directory"
   ]
  },
  {
   "cell_type": "code",
   "execution_count": 4,
   "metadata": {},
   "outputs": [],
   "source": [
    "def getToday():\n",
    "    todayDate = scheduleDict['today'].strftime('%Y-%m-%d')\n",
    "    return todayDate"
   ]
  },
  {
   "cell_type": "code",
   "execution_count": 5,
   "metadata": {},
   "outputs": [],
   "source": [
    "def makeTextFile(subcategory, routeId, Dict):\n",
    "    global scheduledict\n",
    "    folderPath = getDirectory(subcategory, routeId)\n",
    "    todayDate = scheduleDict[routeId]['today'].strftime(\"%Y-%m-%d\")\n",
    "    filePath = folderPath + todayDate + '.txt'\n",
    "\n",
    "    if(os.path.isfile(filePath)):\n",
    "        file = open(filePath, 'a', encoding = 'utf-8', newline = '\\n')\n",
    "        # print('파일이 존재합니다.')\n",
    "        pass\n",
    "\n",
    "    else:\n",
    "        createFolder(folderPath)\n",
    "        file = open(filePath, 'w', encoding = 'utf-8', newline = '\\n')\n",
    "        file.write(str(routeId))\n",
    "        file.write(' ')\n",
    "        file.write(getNowTime().isoformat())\n",
    "        file.write('\\n')\n",
    "        # print('파일을 생성하였습니다.')\n",
    "        \n",
    "    file.close()\n",
    "    Dict[routeId] = filePath\n",
    "    \n",
    "    return Dict"
   ]
  },
  {
   "cell_type": "code",
   "execution_count": 6,
   "metadata": {},
   "outputs": [],
   "source": [
    "def makeOnlyTextFile(Dict, subcategory):\n",
    "    global scheduledict\n",
    "    folderPath = getOnlyDirectory(subcategory)\n",
    "    print(f\"folderPath:\\t{folderPath}\")\n",
    "    todayDate = scheduleDict['today'].strftime(\"%Y-%m-%d\")\n",
    "    print(f\"todayDate:\\t{todayDate}\")\n",
    "    filePath = folderPath + todayDate + '.txt'\n",
    "    print(f\"filePath:\\t{filePath}\")\n",
    "\n",
    "    if(os.path.isfile(filePath)):\n",
    "        file = open(filePath, 'a', encoding = 'utf-8', newline = '\\n')\n",
    "        # print('파일이 존재합니다.')\n",
    "        pass\n",
    "\n",
    "    else:\n",
    "        createFolder(folderPath)\n",
    "        file = open(filePath, 'a', encoding = 'utf-8', newline = '\\n')\n",
    "        file.write(getNowTime().isoformat())\n",
    "        file.write('\\n')\n",
    "        # print('파일을 생성하였습니다.')\n",
    "        \n",
    "    file.close()\n",
    "    Dict['today'] = filePath\n",
    "    \n",
    "    return Dict"
   ]
  },
  {
   "cell_type": "code",
   "execution_count": 7,
   "metadata": {},
   "outputs": [],
   "source": [
    "# 폴더 자동 생성 함수\n",
    "# https://data-make.tistory.com/170\n",
    "def createFolder(directory):\n",
    "    try:\n",
    "        if not os.path.exists(directory):\n",
    "            os.makedirs(directory)\n",
    "    except OSError:\n",
    "        print ('Error: Creating directory. ' +  directory)"
   ]
  },
  {
   "cell_type": "code",
   "execution_count": 8,
   "metadata": {},
   "outputs": [],
   "source": [
    "# 테스트 타임 생성기\n",
    "# https://qastack.kr/programming/993358/creating-a-range-of-dates-in-python\n",
    "def getSampleTime(count):\n",
    "    baseTime = datetime.datetime.today()\n",
    "    numhours = count\n",
    "    dateList = [baseTime + datetime.timedelta(hours=x) for x in range(count)]\n",
    "    return dateList"
   ]
  },
  {
   "cell_type": "code",
   "execution_count": 9,
   "metadata": {},
   "outputs": [],
   "source": [
    "def getRouteIdList():\n",
    "    folderPath = getOnlyDirectory('rid')\n",
    "    fileName = 'routeIdList.txt'\n",
    "    filePath = folderPath + fileName\n",
    "\n",
    "    routeIdList = []\n",
    "    if(os.path.isfile(filePath)):\n",
    "        routeIdFile = open(filePath, 'r', encoding = 'utf-8', newline = '\\n')\n",
    "        # print('파일이 존재합니다.')\n",
    "\n",
    "    else:\n",
    "        createFolder(folderPath)\n",
    "        routeIdFile = open(filePath, 'r', encoding = 'utf-8', newline = '\\n')\n",
    "\n",
    "    routeId = routeIdFile.readline()\n",
    "    while(routeId):\n",
    "        routeIdList.append(int(routeId))\n",
    "        routeId = (routeIdFile.readline())\n",
    "\n",
    "    routeIdFile.close()\n",
    "    \n",
    "    return routeIdList"
   ]
  },
  {
   "cell_type": "code",
   "execution_count": 10,
   "metadata": {},
   "outputs": [],
   "source": [
    "def openAPICall(routeId):\n",
    "    global callCount\n",
    "    #############################################################  \n",
    "    url = 'http://openapi.gbis.go.kr/ws/rest/buslocationservice'# <<<<<<<<<<<<< 도메인 확인\n",
    "    #############################################################\n",
    "\n",
    "    # API를 호출하여 XML 형식으로 된 string 데이터를 변수 \"oneLineXML\" 에 저장합니다.\n",
    "    queryParams = '?' + urlencode({ quote_plus('serviceKey') : apiKey, quote_plus('routeId') : routeId })\n",
    "    request = Request(url + queryParams)\n",
    "    request.get_method = lambda: 'GET'\n",
    "    callCount += 1\n",
    "    oneLineXML = urlopen(request).read().decode('utf8')\n",
    "\n",
    "    # xtree는 \"ws.bus.go.kr\" 도메인 API 호출에서 \"headerCd\"에 상관없이 3개의 태그를 갖습니다.\n",
    "    # [comMsgHeader, msgHeader, msgBody]\n",
    "    xtree = ET.fromstring(oneLineXML)\n",
    "    \n",
    "    return xtree"
   ]
  },
  {
   "cell_type": "code",
   "execution_count": 11,
   "metadata": {},
   "outputs": [],
   "source": [
    "def getNowTime():\n",
    "    fileDateTime = utc.localize(datetime.datetime.utcnow()).astimezone(timezone('Asia/Seoul'))\n",
    "    return fileDateTime"
   ]
  },
  {
   "cell_type": "code",
   "execution_count": 12,
   "metadata": {},
   "outputs": [],
   "source": [
    "def readInfoCSV(routeId):\n",
    "    directory = getDirectory('info', routeId)\n",
    "    # infoRootPath = 'C:/Users/jongh/OneDrive/School/석사/1-2/자료구조/프로젝트/5.DATA/BusInfo/'\n",
    "    infoFilePath = directory + str(routeId) + '.txt'\n",
    "    df= pd.read_csv(infoFilePath, sep=' ', index_col='INFOFILE')\n",
    "    return df"
   ]
  },
  {
   "cell_type": "code",
   "execution_count": 13,
   "metadata": {},
   "outputs": [],
   "source": [
    "def makeInfoFile(routeId):\n",
    "    '''\n",
    "    InfoFile을 만드는 함수 입니다.\n",
    "    busrouteservice/info API를 호출하여 ...\n",
    "    '''\n",
    "    directory = getDirectory('info', routeId)\n",
    "    infoFilePath = directory + str(routeId) + '.txt'\n",
    "    try:\n",
    "        infoFile = open(infoFilePath, 'w', encoding = 'utf-8', newline = '\\n')\n",
    "    except:\n",
    "        createFolder(directory)\n",
    "        infoFile = open(infoFilePath, 'w', encoding = 'utf-8', newline = '\\n')\n",
    "\n",
    "\n",
    "    # 노선정보항목조회 busrouteservice/info\n",
    "    # 해당 노선에 대한 노선번호, 기점/종점 정류소, 첫차/막차시간, 배차간격, 운행업체 등의 운행계획 정보를 제공합니다.\n",
    "    url = 'http://openapi.gbis.go.kr/ws/rest/busrouteservice/info'\n",
    "    queryParams = '?' + urlencode({ quote_plus('serviceKey') : apiKey, quote_plus('routeId') : routeId })\n",
    "    # print(url+queryParams)\n",
    "\n",
    "    request = Request(url + queryParams)\n",
    "    request.get_method = lambda: 'GET'\n",
    "    oneLineXML = urlopen(request).read().decode('utf8')\n",
    "    # print(oneLineXML)\n",
    "\n",
    "    xtree = ET.fromstring(oneLineXML)\n",
    "    resultCode = int(xtree[1].find(\"resultCode\").text)\n",
    "    msgBody = xtree[2]\n",
    "\n",
    "    busRouteInfoItem = msgBody[0]\n",
    "    i=0\n",
    "    infoFile.write(\"INFOFILE \")\n",
    "    infoFile.write(str(routeId))\n",
    "    infoFile.write('\\n')\n",
    "\n",
    "    for info in busRouteInfoItem:\n",
    "        infoFile.write(info.tag)\n",
    "        infoFile.write(' ')\n",
    "        infoFile.write(info.text)\n",
    "        infoFile.write('\\n')\n",
    "        # print(f\"{i} {info.tag} : {info.text}\")\n",
    "        i+=1\n",
    "    infoFile.close()"
   ]
  },
  {
   "cell_type": "code",
   "execution_count": 14,
   "metadata": {},
   "outputs": [],
   "source": [
    "def getBusTime(routeId):\n",
    "    # 첫차 출발시간과 막차 정류장 도착시간을 받습니다.\n",
    "    # ISSUE1: 막차 정류장 도착시간이 실제 시간과 차이가 많이납니다.\n",
    "    # ISSUE2: 자정이 넘어가면 하루를 더해줘야 합니다. 자정이 넘어갔다는 사실을 어떻게 알게 할까요? \n",
    "    #         >>> 출발 시간보다 작으면 하루를 더해주고 출발시간보다 크면 날짜를 그대로 사용합니다.\n",
    "    try: \n",
    "        info_df = readInfoCSV(routeId)\n",
    "    except:\n",
    "        makeInfoFile(routeId)\n",
    "        info_df = readInfoCSV(routeId)\n",
    "        \n",
    "    upFirstTime = info_df.loc['upFirstTime'].values[0]\n",
    "    downLastTime = info_df.loc['upLastTime'].values[0]\n",
    "\n",
    "    startDate = getNowTime()\n",
    "    if(int(upFirstTime.replace(':','')) < int(downLastTime.replace(':',''))):\n",
    "        endDate = startDate\n",
    "    else:\n",
    "        endDate = startDate + datetime.timedelta(days=1)\n",
    "\n",
    "    startDate = startDate.isoformat()[:11] + upFirstTime + ':00.000000+09:00'\n",
    "    endDate = endDate.isoformat()[:11] + downLastTime + ':00.000000+09:00'\n",
    "    todayDate = getNowTime().isoformat()[:11] + '00:00:00.000000+09:00'\n",
    "\n",
    "    startDatetime = datetime.datetime.strptime(startDate, '%Y-%m-%dT%H:%M:%S.%f%z') - datetime.timedelta(minutes=10) # buffer time 입니다.\n",
    "    endDatetime = datetime.datetime.strptime(endDate, '%Y-%m-%dT%H:%M:%S.%f%z') + datetime.timedelta(days=0)\n",
    "    todayDatetime = datetime.datetime.strptime(todayDate, '%Y-%m-%dT%H:%M:%S.%f%z')    \n",
    "    \n",
    "    return {routeId:{'start':startDatetime, 'end':endDatetime, 'today':todayDatetime}}"
   ]
  },
  {
   "cell_type": "code",
   "execution_count": 15,
   "metadata": {},
   "outputs": [],
   "source": [
    "def makeScheduleDict(routeIdList):\n",
    "    global scheduleDict\n",
    "    try:\n",
    "        scheduleDict\n",
    "    except:\n",
    "        scheduleDict = {}\n",
    "    todayTime = getNowTime().isoformat()[:11] + '00:00:00.000000+09:00'\n",
    "    scheduleDict['today'] = datetime.datetime.strptime(todayTime, '%Y-%m-%dT%H:%M:%S.%f%z')\n",
    "    for routeId in routeIdList:\n",
    "        if(routeId in scheduleDict):\n",
    "            # print(\"continue\")\n",
    "            continue\n",
    "        tempDict = getBusTime(routeId)\n",
    "        scheduleDict = {**scheduleDict, **tempDict} # Python 3.5+\n",
    "        # print(\"add-scheduledict\")\n",
    "    return scheduleDict"
   ]
  },
  {
   "cell_type": "code",
   "execution_count": 16,
   "metadata": {},
   "outputs": [],
   "source": [
    "def makeSwitchDict(routeIdList):\n",
    "    global scheduleDict, switchDict\n",
    "    \n",
    "    try:\n",
    "        switchDict\n",
    "    except:\n",
    "        switchDict = {}\n",
    "        \n",
    "    curTime = getNowTime()\n",
    "    for routeId in routeIdList:\n",
    "        if(routeId in switchDict):\n",
    "            continue\n",
    "        if(curTime < scheduleDict[routeId]['start']):\n",
    "            switch = False\n",
    "        elif(scheduleDict[routeId]['start'] <= curTime < scheduleDict[routeId]['end']):\n",
    "            switch = True\n",
    "        else:\n",
    "            scheduleDict[routeId]['start'] + datetime.timedelta(days=1)\n",
    "            scheduleDict[routeId]['end'] + datetime.timedelta(days=1)\n",
    "            switch = False\n",
    "        switchDict[routeId] = switch\n",
    "    return switchDict"
   ]
  },
  {
   "cell_type": "code",
   "execution_count": 17,
   "metadata": {},
   "outputs": [],
   "source": [
    "def makeTxtFileDict(routeIdList, subCategory):\n",
    "    txtFileDict = {}\n",
    "    #txtFileDict['today'] = \n",
    "    for routeId in routeIdList:\n",
    "        txtFileDict = makeTextFile(subCategory, routeId, txtFileDict)\n",
    "    return txtFileDict"
   ]
  },
  {
   "cell_type": "code",
   "execution_count": 18,
   "metadata": {},
   "outputs": [],
   "source": [
    "def updateRouteId(routeId):\n",
    "    global scheduleDict, dttFileDict, logFileDict\n",
    "    scheduleDict[routeId]['start'] += datetime.timedelta(days=1)\n",
    "    scheduleDict[routeId]['end'] += datetime.timedelta(days=1)\n",
    "    scheduleDict[routeId]['today'] += datetime.timedelta(days=1)\n",
    "    dttFileDict = makeTextFile('dtt', routeId, dttFileDict)\n",
    "    logFileDict = makeTextFile('dtt-log', routeId, logFileDict)"
   ]
  },
  {
   "cell_type": "code",
   "execution_count": 19,
   "metadata": {},
   "outputs": [],
   "source": [
    "def getSwitch(routeId):    \n",
    "    global scheduleDict, switchDict, dttFileDict, logFileDict\n",
    "    nowTime = getNowTime()\n",
    "    logFile = open(logFileDict['today'], \"a\")\n",
    "    rlogFile = open(logFileDict[routeId], \"a\")\n",
    "    \n",
    "    #print(nowTime, switchDict[routeId], nowTime > scheduleDict[routeId]['start'], nowTime > scheduleDict[routeId]['end'])\n",
    "\n",
    "    if(not switchDict[routeId]): #BOOL 1 - switchDict[routeId] : FALSE\n",
    "        if(nowTime > scheduleDict[routeId]['start']): #BOOL 2 - 첫차 : TRUE\n",
    "            #print('State #1', end='\\t') # State : 1...\n",
    "            logFile.write(f'\\t\\t {nowTime.strftime(\"%H:%M\")}\\tS#1\\t{routeId}\\n')            \n",
    "            rlogFile.write(f'\\t\\t {nowTime.strftime(\"%H:%M\")}\\tS#1\\t{routeId}\\n')\n",
    "            logFile.close()\n",
    "            switchDict[routeId] = True\n",
    "            \n",
    "            return False # FTF_ > FALSE\n",
    "\n",
    "        else: #BOOL 2 - 첫차 : FALSE\n",
    "            #print('State #0', end='\\t') # State : 0...            \n",
    "            rlogFile.write('State #0\\t') # State : 0...\n",
    "\n",
    "            return False # FFF_ > FALSE\n",
    "\n",
    "    if(switchDict[routeId]): #BOOL 1 - switchDict[routeId] : TRUE\n",
    "                             #BOOL 2 - 첫차 : TRUE\n",
    "        xtree = openAPICall(routeId) # 함수 [ openAPICall ] 호출... xtree를 생성하였습니다.\n",
    "        try:\n",
    "            resultCode = int(xtree.find('msgHeader').find('resultCode').text)\n",
    "            \n",
    "        except:\n",
    "            #print('State ERR', end='\\t')\n",
    "            rlogFile.write('State ERR\\t')\n",
    "\n",
    "            return None\n",
    "        \n",
    "        if(nowTime > scheduleDict[routeId]['end']): #BOOL 3 - 막차 : TRUE\n",
    " \n",
    "                #print(resultCode)\n",
    "                if(resultCode): #BOOL 4 - result code : TRUE\n",
    "                    logFile.write(f'\\t\\t {nowTime.strftime(\"%H:%M\")}\\tS#3\\t{routeId}\\n')\n",
    "                    logFile.close()\n",
    "                    rlogFile.write(f'\\t\\t {nowTime.strftime(\"%H:%M\")}\\tS#3\\t{routeId}\\n')\n",
    "                    rlogFile.close()\n",
    "                    \n",
    "                    switchDict[routeId] = False\n",
    "                    \n",
    "                    updateRouteId(routeId)\n",
    "                    \n",
    "                    return False # TTTT > FALSE\n",
    "                \n",
    "                else: #BOOL 4 - result code : False ... 운행중\n",
    "                    if(getNowTime() > scheduleDict[routeId]['start'] + datetime.timedelta(days=1)):\n",
    "                        #BOOL 4 - result code : not False > True\n",
    "                        #BOOL 2' : 다음날 첫차 : TRUE \n",
    "                        logFile.write(f'\\t\\t {nowTime.strftime(\"%H:%M\")}\\tS#5\\t{routeId}\\n')\n",
    "                        rlogFile.write(f'\\t\\t {nowTime.strftime(\"%H:%M\")}\\tS#5\\t{routeId}\\n')\n",
    "\n",
    "                        updateRouteId(routeId)\n",
    "                \n",
    "                #BOOL 4 - result code : FALSE\n",
    "                #print('State #4', end='\\t') # State : 4...\n",
    "                rlogFile.write(f'\\t\\t {nowTime.strftime(\"%H:%M\")}\\tS#4\\t{routeId}\\n')\n",
    "                \n",
    "                return xtree # TTTF > xtree                     \n",
    "           \n",
    "        else: #BOOL 3 - 막차 : FALSE\n",
    "            if(resultCode): #BOOL 4 - result code : TRUE\n",
    "                logFile.write(f'\\t\\t {nowTime.strftime(\"%H:%M\")}\\tS#2-1\\t{routeId}\\n')\n",
    "                rlogFile.write(f'\\t\\t {nowTime.strftime(\"%H:%M\")}\\tS#2-1\\t{routeId}\\n')\n",
    "\n",
    "                logFile.close()\n",
    "                #print('State #2-1', end='\\t') # State : 2-1...\n",
    "                \n",
    "                return False # TTFT\n",
    "            \n",
    "            else: #BOOL 4 - result code : FALSE\n",
    "                #print('State #2-2', end='\\t') # State : 2-2...\n",
    "                rlogFile.write(f'\\t\\t {nowTime.strftime(\"%H:%M\")}\\tS#2-2\\t{routeId}\\n')\n",
    "\n",
    "                return xtree # TTFF > xtree\n",
    "    \n",
    "    logFile.close()"
   ]
  },
  {
   "cell_type": "code",
   "execution_count": 20,
   "metadata": {},
   "outputs": [],
   "source": [
    "def parser(routeId):\n",
    "    global scheduleDict, switchDict, dttFileDict, logFileDict \n",
    "    dttFile = open(dttFileDict[routeId], \"a\", encoding = 'utf-8', newline = '\\n')\n",
    "    logFile = open(logFileDict[routeId], \"a\", encoding = 'utf-8', newline = '\\n')\n",
    "    # print(dttFileDict[routeId])\n",
    "    # print(routeId, end='\\t')\n",
    "    xtree = getSwitch(routeId)\n",
    "    if(None):\n",
    "        return\n",
    "    if(xtree):\n",
    "        msgHeader = xtree[1]\n",
    "        queryTime = msgHeader[0]\n",
    "        msgBody = xtree[2]\n",
    "        \n",
    "        for busLocationList in msgBody:\n",
    "            busLocationValueList = []\n",
    "            dttFile.write(getNowTime().isoformat()[:-13])\n",
    "            dttFile.write(' ')\n",
    "            for busLocation in busLocationList:\n",
    "                # print(busLocation.text, end=' ')\n",
    "                dttFile.write(busLocation.text)\n",
    "                dttFile.write(' ')\n",
    "            # print('\\n')\n",
    "            dttFile.write(\"\\n\")\n",
    "    else:\n",
    "        pass\n",
    "        # dttFile.write(str(xtree))\n",
    "        \n",
    "    dttFile.close()\n",
    "    logFile.close()"
   ]
  },
  {
   "cell_type": "code",
   "execution_count": 21,
   "metadata": {},
   "outputs": [],
   "source": [
    "def parsingRouteIdList(routeIdList):\n",
    "    global callCount\n",
    "    tempCallCount = callCount\n",
    "    pastTime = getNowTime()\n",
    "    for routeId in routeIdList:\n",
    "\n",
    "        parser(routeId)\n",
    "\n",
    "    # print(f\"누적 호출수: {callCount}\\t소요시간: {getNowTime() - pastTime}\")\n",
    "    duration = 59 - (getNowTime() - pastTime).seconds\n",
    "    if(duration<0):\n",
    "        duration = 0\n",
    "        logFile = open(logFileDict['today'], \"a\")\n",
    "        logFile.write(f\"{getNowTime()}\\t{routeId}\\tduration<0 : 노선 수 조정이 필요합니다.\")\n",
    "        logFile.close()\n",
    "    time.sleep(duration)\n",
    "    oneCycleCallCount = callCount - tempCallCount\n",
    "    \n",
    "    return (duration, oneCycleCallCount)"
   ]
  },
  {
   "cell_type": "code",
   "execution_count": 22,
   "metadata": {},
   "outputs": [],
   "source": [
    "def updateToday():\n",
    "    global scheduleDict, callCount, logFileDict\n",
    "    \n",
    "    tomorrowDate = scheduleDict['today'] + datetime.timedelta(days=1)\n",
    "    todayDate = getNowTime()\n",
    "    if(todayDate >= tomorrowDate):\n",
    "        logFile = open(logFileDict['today'], \"a\")\n",
    "        callCount = 0\n",
    "        scheduleDict['today'] += datetime.timedelta(days=1)\n",
    "        logFile.write(f\"scheduleDict['today']를 업데이트 하였습니다: {scheduleDict['today']}\\n\")\n",
    "        print(f\"scheduleDict['today']:\\t{scheduleDict['today']}\")\n",
    "\n",
    "        routeIdList = getRouteIdList()\n",
    "        testRouteId = 204000046\n",
    "        logFile.write(f\"routeIdList를 업데이트 하였습니다: {routeIdList[0]}\\n\")\n",
    "        \n",
    "        scheduleDict = makeScheduleDict(routeIdList)\n",
    "        logFile.write(f\"scheduleDict를 업데이트 하였습니다: {scheduleDict[testRouteId]}\\n\")\n",
    "        \n",
    "        switchDict = makeSwitchDict(routeIdList)\n",
    "        logFile.write(f\"switchDict 업데이트 하였습니다: {switchDict[testRouteId]}\\n\")\n",
    "        \n",
    "        dttFileDict = makeTxtFileDict(routeIdList, 'dtt')\n",
    "        logFile.write(f\"dttFileDict[testRouteId]를 업데이트 하였습니다: {dttFileDict[testRouteId]}\\n\")\n",
    "        \n",
    "        logFileDict = makeTxtFileDict(routeIdList, 'dtt-log')\n",
    "        logFile.write(f\"logFileDict[routeId]를 업데이트 하였습니다: {logFileDict[testRouteId]}\\n\")\n",
    "        \n",
    "        logFileDict = makeOnlyTextFile(logFileDict, 'main-log')\n",
    "        logFile.write(f\"logFileDict-main-log를 업데이트 하였습니다: {logFileDict['today']}\\n\")\n",
    "        logFile.close()\n",
    "        \n",
    "        return"
   ]
  },
  {
   "cell_type": "code",
   "execution_count": 23,
   "metadata": {},
   "outputs": [],
   "source": [
    "subCategoryDict = {'dtt' : '/daily-time-table/', \n",
    "                   'dtt-log' : '/log/daily-time-table/', \n",
    "                   'rid' : '/route-id-list/',\n",
    "                   'main-log' : '/log/main/',\n",
    "                   'info' : '/BusInfo/'\n",
    "                  }"
   ]
  },
  {
   "cell_type": "code",
   "execution_count": 24,
   "metadata": {},
   "outputs": [],
   "source": [
    "KEY = 'yEaR%2F3MDedRSlVJL%2F2pxnVg0yre1N5VF3RZ%2FUAt56MJ7J2mNpfqhUvy05pXV0uhHTVY7DbyCR8xmMaDdYga67Q%3D%3D' # 종현\n",
    "apiKey = unquote(KEY)\n",
    "callCount = 0"
   ]
  },
  {
   "cell_type": "code",
   "execution_count": 25,
   "metadata": {},
   "outputs": [
    {
     "name": "stdin",
     "output_type": "stream",
     "text": [
      "테스트 버전 입니까?... True[1] OR False[0] :  0\n"
     ]
    }
   ],
   "source": [
    "isTest = int(input(\"테스트 버전 입니까?... True[1] OR False[0] : \")) \n",
    "\n",
    "##############################\n",
    "##############################\n",
    "                          ####\n",
    "if(isTest):               ####\n",
    "    category = '/TEST'    ####\n",
    "                          ####\n",
    "else:                     ####\n",
    "    category = '/DATA'    ####\n",
    "                          ####\n",
    "##############################\n",
    "##############################"
   ]
  },
  {
   "cell_type": "code",
   "execution_count": 26,
   "metadata": {},
   "outputs": [
    {
     "name": "stdout",
     "output_type": "stream",
     "text": [
      "[200000104, 200000108, 200000109, 200000119, 200000120, 200000145, 200000175, 200000193, 200000205, 204000046, 204000056, 204000057, 204000059, 204000065, 204000081, 204000082, 205000002, 213000019, 213000024, 216000026, 218000010, 218000011, 219000006, 221000003, 221000033, 222000046, 222000075, 222000076, 222000078, 222000107, 222000137, 222000169, 227000019, 227000038, 227000039, 228000176, 228000177, 228000181, 228000263, 228000388, 228000389, 229000023, 229000028, 229000028, 229000072, 229000097, 229000111, 229000112, 232000047, 232000072, 232000072, 232000073, 232000081, 232000092, 232000098, 233000031, 233000125, 233000131, 233000135, 233000142, 233000258, 233000265, 234000002, 234000011, 234000013, 234000031, 234000042, 234000050, 234000075, 234000079, 234000130, 234000310, 234000313, 234000324, 234000878, 234000882, 234000884, 234001203, 234001204, 234001244, 234001511, 234001516, 234001609, 236000050, 229000266, 229000263] 생성을 완료하였습니다.\n"
     ]
    }
   ],
   "source": [
    "routeIdList = getRouteIdList()\n",
    "print(f\"{routeIdList} 생성을 완료하였습니다.\")"
   ]
  },
  {
   "cell_type": "code",
   "execution_count": 27,
   "metadata": {},
   "outputs": [],
   "source": [
    "scheduleDict = makeScheduleDict(routeIdList)"
   ]
  },
  {
   "cell_type": "code",
   "execution_count": 28,
   "metadata": {},
   "outputs": [],
   "source": [
    "switchDict = makeSwitchDict(routeIdList)"
   ]
  },
  {
   "cell_type": "code",
   "execution_count": 29,
   "metadata": {},
   "outputs": [],
   "source": [
    "dttFileDict = makeTxtFileDict(routeIdList, 'dtt')"
   ]
  },
  {
   "cell_type": "code",
   "execution_count": 30,
   "metadata": {},
   "outputs": [],
   "source": [
    "logFileDict = makeTxtFileDict(routeIdList, 'dtt-log')"
   ]
  },
  {
   "cell_type": "code",
   "execution_count": 31,
   "metadata": {},
   "outputs": [
    {
     "name": "stdout",
     "output_type": "stream",
     "text": [
      "folderPath:\t/home/ubuntu/Data-Structure-Project/AWS/DATA/log/main/\n",
      "todayDate:\t2020-12-29\n",
      "filePath:\t/home/ubuntu/Data-Structure-Project/AWS/DATA/log/main/2020-12-29.txt\n"
     ]
    }
   ],
   "source": [
    "logFileDict = makeOnlyTextFile(logFileDict, 'main-log')"
   ]
  },
  {
   "cell_type": "code",
   "execution_count": 32,
   "metadata": {},
   "outputs": [
    {
     "name": "stdout",
     "output_type": "stream",
     "text": [
      "getNowTime:\t2020-12-29 03:24:48.794413+09:00\n",
      "start:\t2020-12-29 04:50:00+09:00\n",
      "end:\t2020-12-29 21:50:00+09:00\n",
      "today:\t2020-12-29 00:00:00+09:00\n",
      "scheduleDict:\t{'start': datetime.datetime(2020, 12, 29, 4, 50, tzinfo=datetime.timezone(datetime.timedelta(seconds=32400))), 'end': datetime.datetime(2020, 12, 29, 21, 50, tzinfo=datetime.timezone(datetime.timedelta(seconds=32400))), 'today': datetime.datetime(2020, 12, 29, 0, 0, tzinfo=datetime.timezone(datetime.timedelta(seconds=32400)))}\n",
      "switchDict:\tFalse\n",
      "dttFileDict:\t/home/ubuntu/Data-Structure-Project/AWS/DATA/daily-time-table/204000056/2020-12-29.txt\n",
      "logFileDict:\t/home/ubuntu/Data-Structure-Project/AWS/DATA/log/daily-time-table/204000056/2020-12-29.txt\n",
      "다음날 첫차:\t2020-12-30 04:50:00+09:00\n",
      "logFileDict['today']:\t/home/ubuntu/Data-Structure-Project/AWS/DATA/log/main/2020-12-29.txt\n",
      "scheduleDict['today']:\t2020-12-29 00:00:00+09:00\n"
     ]
    }
   ],
   "source": [
    "# 오류 노선ID 확인용\n",
    "TEST_ROUTEID = 204000056\n",
    "print(f\"getNowTime:\\t{getNowTime()}\", f\"start:\\t{scheduleDict[TEST_ROUTEID]['start']}\", f\"end:\\t{scheduleDict[TEST_ROUTEID]['end']}\", f\"today:\\t{scheduleDict[TEST_ROUTEID]['today']}\", sep='\\n')\n",
    "print(f\"scheduleDict:\\t{scheduleDict[TEST_ROUTEID]}\")\n",
    "print(f\"switchDict:\\t{switchDict[TEST_ROUTEID]}\")\n",
    "print(f\"dttFileDict:\\t{dttFileDict[TEST_ROUTEID]}\")\n",
    "print(f\"logFileDict:\\t{logFileDict[TEST_ROUTEID]}\")\n",
    "print(f\"다음날 첫차:\\t{scheduleDict[TEST_ROUTEID]['start'] + datetime.timedelta(days=1)}\")\n",
    "print(f\"logFileDict['today']:\\t{logFileDict['today']}\")\n",
    "print(f\"scheduleDict['today']:\\t{scheduleDict['today']}\")"
   ]
  },
  {
   "cell_type": "code",
   "execution_count": null,
   "metadata": {},
   "outputs": [],
   "source": [
    "while(True):\n",
    "    pastTime = getNowTime()\n",
    "    updateToday()\n",
    "    (duration, oneCycleCallCount) = parsingRouteIdList(routeIdList)\n",
    "    strTime = getNowTime().strftime(\"%y/%m/%d %H:%M\")\n",
    "    print(f\"{strTime}\\t호출:{oneCycleCallCount:3d} 누적호출:{callCount:6d} 소요시간: {str(getNowTime() - pastTime)[2:-4]}\")    \n",
    "    logFile = open(logFileDict['today'], \"a\")\n",
    "    logFile.write(f\"{strTime}\\t호출:{oneCycleCallCount:3d} 누적호출:{callCount:6d} 소요시간: {str(getNowTime() - pastTime)[2:-4]}\\n\")\n",
    "    logFile.close()"
   ]
  }
 ],
 "metadata": {
  "kernelspec": {
   "display_name": "Python 3",
   "language": "python",
   "name": "python3"
  },
  "language_info": {
   "codemirror_mode": {
    "name": "ipython",
    "version": 3
   },
   "file_extension": ".py",
   "mimetype": "text/x-python",
   "name": "python",
   "nbconvert_exporter": "python",
   "pygments_lexer": "ipython3",
   "version": "3.8.5"
  }
 },
 "nbformat": 4,
 "nbformat_minor": 4
}
